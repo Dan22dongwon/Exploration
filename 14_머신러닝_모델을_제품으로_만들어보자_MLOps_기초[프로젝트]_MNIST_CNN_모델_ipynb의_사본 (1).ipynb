{
  "nbformat": 4,
  "nbformat_minor": 0,
  "metadata": {
    "colab": {
      "provenance": [],
      "gpuType": "T4"
    },
    "kernelspec": {
      "name": "python3",
      "display_name": "Python 3"
    },
    "language_info": {
      "name": "python"
    },
    "accelerator": "GPU"
  },
  "cells": [
    {
      "cell_type": "code",
      "source": [
        "print(1)"
      ],
      "metadata": {
        "id": "5ZtaKCABqpYu",
        "colab": {
          "base_uri": "https://localhost:8080/"
        },
        "outputId": "91b849fd-0df7-4dd6-d4c9-a5d8b1b9c6f4"
      },
      "execution_count": 1,
      "outputs": [
        {
          "output_type": "stream",
          "name": "stdout",
          "text": [
            "1\n"
          ]
        }
      ]
    },
    {
      "cell_type": "code",
      "source": [
        "!pip install keras-tuner"
      ],
      "metadata": {
        "id": "wSlBurEZUWaS"
      },
      "execution_count": null,
      "outputs": []
    },
    {
      "cell_type": "code",
      "execution_count": null,
      "metadata": {
        "id": "FPSVDy5IS_mr"
      },
      "outputs": [],
      "source": [
        "import numpy as np\n",
        "import matplotlib.pyplot as plt\n",
        "import keras\n",
        "import tensorflow as tf\n",
        "import keras_tuner as kt"
      ]
    },
    {
      "cell_type": "code",
      "source": [
        "# MNIST 데이터셋 불러오기\n",
        "(x_train, y_train), (x_test, y_test) = tf.keras.datasets.mnist.load_data()"
      ],
      "metadata": {
        "id": "YQtU0IE1T1uP"
      },
      "execution_count": null,
      "outputs": []
    },
    {
      "cell_type": "code",
      "source": [
        "# 데이터 전처리\n",
        "X_train = x_train.reshape(-1, 28, 28, 1)  # reshaping for convnet\n",
        "X_test = x_test.reshape(-1, 28, 28, 1)\n",
        "y_train = tf.keras.utils.to_categorical(y_train, num_classes=10)\n",
        "y_test = tf.keras.utils.to_categorical(y_test, num_classes=10)"
      ],
      "metadata": {
        "id": "1mi9dI41UQoQ"
      },
      "execution_count": null,
      "outputs": []
    },
    {
      "cell_type": "code",
      "source": [
        "# CNN 모델 정의\n",
        "def build_model(hp):\n",
        "    model = keras.Sequential()\n",
        "    model.add(keras.layers.Conv2D(filters=hp.Int('conv_1_filter', min_value=32, max_value=128, step=16),\n",
        "                                  kernel_size=hp.Choice('conv_1_kernel', values=[3, 5]),\n",
        "                                  activation='relu',\n",
        "                                  input_shape=(28, 28, 1)))\n",
        "    model.add(keras.layers.MaxPooling2D(pool_size=(2, 2)))\n",
        "    model.add(keras.layers.Flatten())\n",
        "    model.add(keras.layers.Dense(units=hp.Int('dense_1_units', min_value=128, max_value=512, step=64), activation='relu'))\n",
        "    model.add(keras.layers.Dropout(0.5))\n",
        "    model.add(keras.layers.Dense(10, activation='softmax'))\n",
        "\n",
        "    model.compile(optimizer='adam', loss='categorical_crossentropy', metrics=['accuracy'])\n",
        "    return model"
      ],
      "metadata": {
        "id": "ch1dOEyzU0sH"
      },
      "execution_count": null,
      "outputs": []
    },
    {
      "cell_type": "code",
      "source": [
        "# Hyperband 튜너 설정\n",
        "tuner = kt.Hyperband(build_model,\n",
        "                     objective='val_accuracy',\n",
        "                     max_epochs=10,\n",
        "                     factor=3,\n",
        "                     directory='my_dir',\n",
        "                     project_name='mnist')"
      ],
      "metadata": {
        "id": "UzZnvHV0U5yU"
      },
      "execution_count": null,
      "outputs": []
    },
    {
      "cell_type": "code",
      "source": [
        "# 모델 훈련\n",
        "tuner.search(X_train, y_train, batch_size=128, epochs=5, validation_data=(X_test, y_test))"
      ],
      "metadata": {
        "id": "sV21E7TXU9_u"
      },
      "execution_count": null,
      "outputs": []
    },
    {
      "cell_type": "markdown",
      "source": [
        "1. 하이퍼파라미터 튜닝"
      ],
      "metadata": {
        "id": "7QS9sLZ4hqsJ"
      }
    },
    {
      "cell_type": "code",
      "source": [
        "# 최적의 하이퍼파라미터 및 모델 선택\n",
        "best_hps = tuner.get_best_hyperparameters(num_trials=1)[0]\n",
        "best_model = tuner.hypermodel.build(best_hps)"
      ],
      "metadata": {
        "id": "9T94qxywVPiF"
      },
      "execution_count": null,
      "outputs": []
    },
    {
      "cell_type": "code",
      "source": [
        "# 최적의 모델 훈련\n",
        "best_model.fit(X_train, y_train, batch_size=128, epochs=5, validation_data=(X_test, y_test))"
      ],
      "metadata": {
        "id": "P6-2vs_nVWZu"
      },
      "execution_count": null,
      "outputs": []
    },
    {
      "cell_type": "code",
      "source": [
        "# 테스트 이미지 예측\n",
        "test_index = np.random.randint(0, X_test.shape[0])\n",
        "test_image = X_test[test_index]\n",
        "true_label = np.argmax(y_test[test_index])\n",
        "\n",
        "prediction = best_model.predict(np.expand_dims(test_image, axis=0))\n",
        "predicted_label = np.argmax(prediction)"
      ],
      "metadata": {
        "id": "5kGfE4lbVZ7D"
      },
      "execution_count": null,
      "outputs": []
    },
    {
      "cell_type": "code",
      "source": [
        "# 결과 출력\n",
        "plt.imshow(test_image.reshape(28, 28), cmap='gray')\n",
        "plt.title(f'True Label: {true_label}\\nPredicted Label: {predicted_label}')\n",
        "plt.axis('off')\n",
        "plt.show()"
      ],
      "metadata": {
        "id": "87bqvz8VVdob"
      },
      "execution_count": null,
      "outputs": []
    },
    {
      "cell_type": "markdown",
      "source": [
        "2. 모델 배포하기"
      ],
      "metadata": {
        "id": "xCgj0Sx3h3_Y"
      }
    },
    {
      "cell_type": "code",
      "source": [
        "# TensorFlow Serving을 설치\n",
        "!pip install tensorflow-serving-api"
      ],
      "metadata": {
        "id": "GyUwpz4MYCWO"
      },
      "execution_count": null,
      "outputs": []
    },
    {
      "cell_type": "markdown",
      "source": [
        "3. TFLite 모델 만들기"
      ],
      "metadata": {
        "id": "05UKCGWNhyfG"
      }
    },
    {
      "cell_type": "code",
      "source": [
        "# TFLite 모델로 변환\n",
        "converter = tf.lite.TFLiteConverter.from_keras_model(best_model)\n",
        "tflite_model = converter.convert()"
      ],
      "metadata": {
        "id": "mZ5Gsw3gVhQ0"
      },
      "execution_count": null,
      "outputs": []
    },
    {
      "cell_type": "code",
      "source": [
        "# TFLite 모델 저장\n",
        "with open('best_model.tflite', 'wb') as f:\n",
        "    f.write(tflite_model)"
      ],
      "metadata": {
        "id": "9vsi2szwVjYP"
      },
      "execution_count": null,
      "outputs": []
    },
    {
      "cell_type": "code",
      "source": [
        "# TFLite 모델 로드 및 서명 확인\n",
        "tflite_interpreter = tf.lite.Interpreter(model_content=tflite_model)\n",
        "tflite_interpreter.allocate_tensors()"
      ],
      "metadata": {
        "id": "tKSJ-JAyVoA7"
      },
      "execution_count": null,
      "outputs": []
    },
    {
      "cell_type": "code",
      "source": [
        "# 모델 정보 출력\n",
        "input_details = tflite_interpreter.get_input_details()\n",
        "output_details = tflite_interpreter.get_output_details()\n",
        "print(\"Input details:\", input_details)\n",
        "print(\"Output details:\", output_details)"
      ],
      "metadata": {
        "collapsed": true,
        "id": "lkeAK1D9Vqie"
      },
      "execution_count": null,
      "outputs": []
    }
  ]
}