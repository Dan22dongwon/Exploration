{
 "cells": [
  {
   "cell_type": "code",
   "execution_count": 3,
   "metadata": {
    "colab": {
     "base_uri": "https://localhost:8080/"
    },
    "id": "EduLU0cZRd9Y",
    "outputId": "afe41eb4-894e-4b52-d1be-3ebab9667db4"
   },
   "outputs": [
    {
     "name": "stdout",
     "output_type": "stream",
     "text": [
      "Requirement already satisfied: summa in /opt/conda/lib/python3.9/site-packages (1.2.0)\n",
      "Requirement already satisfied: scipy>=0.19 in /opt/conda/lib/python3.9/site-packages (from summa) (1.7.1)\n",
      "Requirement already satisfied: numpy<1.23.0,>=1.16.5 in /opt/conda/lib/python3.9/site-packages (from scipy>=0.19->summa) (1.21.4)\n",
      "\u001b[33mWARNING: Running pip as the 'root' user can result in broken permissions and conflicting behaviour with the system package manager. It is recommended to use a virtual environment instead: https://pip.pypa.io/warnings/venv\u001b[0m\n",
      "3.6.5\n",
      "2.6.0\n",
      "1.3.3\n",
      "1.2.0\n"
     ]
    },
    {
     "name": "stderr",
     "output_type": "stream",
     "text": [
      "[nltk_data] Downloading package stopwords to /aiffel/nltk_data...\n",
      "[nltk_data]   Package stopwords is already up-to-date!\n"
     ]
    }
   ],
   "source": [
    "!pip install summa\n",
    "\n",
    "from importlib.metadata import version\n",
    "import nltk\n",
    "import tensorflow\n",
    "import summa\n",
    "import pandas as pd\n",
    "nltk.download('stopwords')\n",
    "from nltk.corpus import stopwords\n",
    "import os\n",
    "import os.path\n",
    "import re\n",
    "from bs4 import BeautifulSoup\n",
    "from tensorflow.keras.preprocessing.text import Tokenizer\n",
    "from tensorflow.keras.preprocessing.sequence import pad_sequences\n",
    "import numpy as np\n",
    "import matplotlib.pyplot as plt\n",
    "\n",
    "from tensorflow.keras.layers import Input, LSTM, Embedding, Dense, Concatenate, TimeDistributed\n",
    "from tensorflow.keras.models import Model\n",
    "from tensorflow.keras.callbacks import EarlyStopping, ModelCheckpoint\n",
    "from tensorflow.keras.layers import AdditiveAttention\n",
    "\n",
    "import requests\n",
    "from summa.summarizer import summarize\n",
    "\n",
    "print(nltk.__version__)\n",
    "print(tensorflow.__version__)\n",
    "print(pd.__version__)\n",
    "print(version('summa'))"
   ]
  },
  {
   "cell_type": "markdown",
   "metadata": {
    "id": "XKnzfxOlZFzd"
   },
   "source": [
    "### Step 1. 데이터 수집하기\n",
    "데이터는 아래 링크에 있는 뉴스 기사 데이터(news_summary_more.csv)를 사용하세요.\n",
    "\n",
    "- sunnysai12345/News_Summary\n",
    "\n",
    "아래의 코드로 데이터를 다운로드할 수 있어요."
   ]
  },
  {
   "cell_type": "code",
   "execution_count": 4,
   "metadata": {
    "colab": {
     "base_uri": "https://localhost:8080/",
     "height": 363
    },
    "id": "h0OjaF85Tto5",
    "outputId": "f898b600-9964-4b04-9e7e-5e6ffca1151e"
   },
   "outputs": [
    {
     "data": {
      "text/html": [
       "<div>\n",
       "<style scoped>\n",
       "    .dataframe tbody tr th:only-of-type {\n",
       "        vertical-align: middle;\n",
       "    }\n",
       "\n",
       "    .dataframe tbody tr th {\n",
       "        vertical-align: top;\n",
       "    }\n",
       "\n",
       "    .dataframe thead th {\n",
       "        text-align: right;\n",
       "    }\n",
       "</style>\n",
       "<table border=\"1\" class=\"dataframe\">\n",
       "  <thead>\n",
       "    <tr style=\"text-align: right;\">\n",
       "      <th></th>\n",
       "      <th>headlines</th>\n",
       "      <th>text</th>\n",
       "    </tr>\n",
       "  </thead>\n",
       "  <tbody>\n",
       "    <tr>\n",
       "      <th>18909</th>\n",
       "      <td>Diamond-studded gold tiffin box, teacup stolen...</td>\n",
       "      <td>A gold tiffin box weighing 2 kg, a cup, saucer...</td>\n",
       "    </tr>\n",
       "    <tr>\n",
       "      <th>98261</th>\n",
       "      <td>Billionaire Turakhia to invest $25mn in work m...</td>\n",
       "      <td>Billionaire Founder and CEO of Flock instant m...</td>\n",
       "    </tr>\n",
       "    <tr>\n",
       "      <th>21535</th>\n",
       "      <td>Can't guarantee there's no tape of Trump using...</td>\n",
       "      <td>White House Press Secretary Sarah Sanders has ...</td>\n",
       "    </tr>\n",
       "    <tr>\n",
       "      <th>54956</th>\n",
       "      <td>Winds of war blowing around the world: Pope Fr...</td>\n",
       "      <td>While delivering his Christmas message on Mond...</td>\n",
       "    </tr>\n",
       "    <tr>\n",
       "      <th>28187</th>\n",
       "      <td>Delhivery plans $350 mn IPO to become billion-...</td>\n",
       "      <td>Gurugram-headquartered logistics startup Delhi...</td>\n",
       "    </tr>\n",
       "    <tr>\n",
       "      <th>24456</th>\n",
       "      <td>Bill which also punishes bribe givers passed i...</td>\n",
       "      <td>The Prevention of Corruption (Amendment) Bill,...</td>\n",
       "    </tr>\n",
       "    <tr>\n",
       "      <th>32465</th>\n",
       "      <td>Forest Dept driver wins silver at Asian Powerl...</td>\n",
       "      <td>A Manimaran, a driver in the Forest Department...</td>\n",
       "    </tr>\n",
       "    <tr>\n",
       "      <th>24342</th>\n",
       "      <td>2 Lashkar-e-Taiba terrorists killed in encount...</td>\n",
       "      <td>Two Lashkar-e-Taiba terrorists were killed in ...</td>\n",
       "    </tr>\n",
       "    <tr>\n",
       "      <th>45119</th>\n",
       "      <td>Politics has snakes, thorns and difficulties: ...</td>\n",
       "      <td>Speaking at the inauguration of former CM MG R...</td>\n",
       "    </tr>\n",
       "    <tr>\n",
       "      <th>59534</th>\n",
       "      <td>GST implementation example of how not to do it...</td>\n",
       "      <td>BJP leader Yashwant Sinha on Friday said the w...</td>\n",
       "    </tr>\n",
       "  </tbody>\n",
       "</table>\n",
       "</div>"
      ],
      "text/plain": [
       "                                               headlines  \\\n",
       "18909  Diamond-studded gold tiffin box, teacup stolen...   \n",
       "98261  Billionaire Turakhia to invest $25mn in work m...   \n",
       "21535  Can't guarantee there's no tape of Trump using...   \n",
       "54956  Winds of war blowing around the world: Pope Fr...   \n",
       "28187  Delhivery plans $350 mn IPO to become billion-...   \n",
       "24456  Bill which also punishes bribe givers passed i...   \n",
       "32465  Forest Dept driver wins silver at Asian Powerl...   \n",
       "24342  2 Lashkar-e-Taiba terrorists killed in encount...   \n",
       "45119  Politics has snakes, thorns and difficulties: ...   \n",
       "59534  GST implementation example of how not to do it...   \n",
       "\n",
       "                                                    text  \n",
       "18909  A gold tiffin box weighing 2 kg, a cup, saucer...  \n",
       "98261  Billionaire Founder and CEO of Flock instant m...  \n",
       "21535  White House Press Secretary Sarah Sanders has ...  \n",
       "54956  While delivering his Christmas message on Mond...  \n",
       "28187  Gurugram-headquartered logistics startup Delhi...  \n",
       "24456  The Prevention of Corruption (Amendment) Bill,...  \n",
       "32465  A Manimaran, a driver in the Forest Department...  \n",
       "24342  Two Lashkar-e-Taiba terrorists were killed in ...  \n",
       "45119  Speaking at the inauguration of former CM MG R...  \n",
       "59534  BJP leader Yashwant Sinha on Friday said the w...  "
      ]
     },
     "execution_count": 4,
     "metadata": {},
     "output_type": "execute_result"
    }
   ],
   "source": [
    "import urllib.request\n",
    "urllib.request.urlretrieve(\"https://raw.githubusercontent.com/sunnysai12345/News_Summary/master/news_summary_more.csv\", filename=\"news_summary_more.csv\")\n",
    "data = pd.read_csv('news_summary_more.csv', encoding='iso-8859-1')\n",
    "data.sample(10)"
   ]
  },
  {
   "cell_type": "code",
   "execution_count": 5,
   "metadata": {
    "colab": {
     "base_uri": "https://localhost:8080/"
    },
    "id": "8SKw_OLqTwBG",
    "outputId": "e92f036c-bf80-41c8-8314-e3a5feea60c4"
   },
   "outputs": [
    {
     "name": "stdout",
     "output_type": "stream",
     "text": [
      "text 열에서 중복을 배제한 유일한 샘플의 수 : 98360\n",
      "headlines 열에서 중복을 배제한 유일한 샘플의 수 : 98280\n"
     ]
    }
   ],
   "source": [
    "print('text 열에서 중복을 배제한 유일한 샘플의 수 :', data['text'].nunique())\n",
    "print('headlines 열에서 중복을 배제한 유일한 샘플의 수 :', data['headlines'].nunique())"
   ]
  },
  {
   "cell_type": "code",
   "execution_count": 6,
   "metadata": {
    "colab": {
     "base_uri": "https://localhost:8080/"
    },
    "id": "5buT-ofKTzTx",
    "outputId": "d122a21b-47b3-456c-8e1c-43d07bc4468a"
   },
   "outputs": [
    {
     "name": "stdout",
     "output_type": "stream",
     "text": [
      "전체 샘플수 : 98360\n"
     ]
    }
   ],
   "source": [
    "data.drop_duplicates(subset = ['text'], inplace=True)\n",
    "print('전체 샘플수 :', (len(data)))"
   ]
  },
  {
   "cell_type": "code",
   "execution_count": 7,
   "metadata": {
    "colab": {
     "base_uri": "https://localhost:8080/"
    },
    "id": "Mg9zEqLTT0Bn",
    "outputId": "87b3da97-077b-4614-f616-c6c1293ea223"
   },
   "outputs": [
    {
     "name": "stdout",
     "output_type": "stream",
     "text": [
      "headlines    0\n",
      "text         0\n",
      "dtype: int64\n"
     ]
    }
   ],
   "source": [
    "print(data.isnull().sum())"
   ]
  },
  {
   "cell_type": "markdown",
   "metadata": {
    "id": "CBdCTf93Y87A"
   },
   "source": [
    "### Step 2. 데이터 전처리하기 (추상적 요약)\n",
    "실습에서 사용된 전처리를 참고하여 각자 필요하다고 생각하는 전처리를 추가 사용하여 텍스트를 정규화 또는 정제해 보세요. 만약, 불용어 제거를 선택한다면 상대적으로 길이가 짧은 요약 데이터에 대해서도 불용어를 제거하는 것이 좋을지 고민해 보세요."
   ]
  },
  {
   "cell_type": "code",
   "execution_count": 8,
   "metadata": {
    "colab": {
     "base_uri": "https://localhost:8080/"
    },
    "id": "yDF5dHAOT1qJ",
    "outputId": "b0c050f3-ba3f-4d7e-f69d-4147f565c307"
   },
   "outputs": [
    {
     "name": "stdout",
     "output_type": "stream",
     "text": [
      "정규화 사전의 수:  120\n"
     ]
    }
   ],
   "source": [
    "contractions = {\"ain't\": \"is not\", \"aren't\": \"are not\",\"can't\": \"cannot\", \"'cause\": \"because\", \"could've\": \"could have\", \"couldn't\": \"could not\",\n",
    "                           \"didn't\": \"did not\",  \"doesn't\": \"does not\", \"don't\": \"do not\", \"hadn't\": \"had not\", \"hasn't\": \"has not\", \"haven't\": \"have not\",\n",
    "                           \"he'd\": \"he would\",\"he'll\": \"he will\", \"he's\": \"he is\", \"how'd\": \"how did\", \"how'd'y\": \"how do you\", \"how'll\": \"how will\", \"how's\": \"how is\",\n",
    "                           \"I'd\": \"I would\", \"I'd've\": \"I would have\", \"I'll\": \"I will\", \"I'll've\": \"I will have\",\"I'm\": \"I am\", \"I've\": \"I have\", \"i'd\": \"i would\",\n",
    "                           \"i'd've\": \"i would have\", \"i'll\": \"i will\",  \"i'll've\": \"i will have\",\"i'm\": \"i am\", \"i've\": \"i have\", \"isn't\": \"is not\", \"it'd\": \"it would\",\n",
    "                           \"it'd've\": \"it would have\", \"it'll\": \"it will\", \"it'll've\": \"it will have\",\"it's\": \"it is\", \"let's\": \"let us\", \"ma'am\": \"madam\",\n",
    "                           \"mayn't\": \"may not\", \"might've\": \"might have\",\"mightn't\": \"might not\",\"mightn't've\": \"might not have\", \"must've\": \"must have\",\n",
    "                           \"mustn't\": \"must not\", \"mustn't've\": \"must not have\", \"needn't\": \"need not\", \"needn't've\": \"need not have\",\"o'clock\": \"of the clock\",\n",
    "                           \"oughtn't\": \"ought not\", \"oughtn't've\": \"ought not have\", \"shan't\": \"shall not\", \"sha'n't\": \"shall not\", \"shan't've\": \"shall not have\",\n",
    "                           \"she'd\": \"she would\", \"she'd've\": \"she would have\", \"she'll\": \"she will\", \"she'll've\": \"she will have\", \"she's\": \"she is\",\n",
    "                           \"should've\": \"should have\", \"shouldn't\": \"should not\", \"shouldn't've\": \"should not have\", \"so've\": \"so have\",\"so's\": \"so as\",\n",
    "                           \"this's\": \"this is\",\"that'd\": \"that would\", \"that'd've\": \"that would have\", \"that's\": \"that is\", \"there'd\": \"there would\",\n",
    "                           \"there'd've\": \"there would have\", \"there's\": \"there is\", \"here's\": \"here is\",\"they'd\": \"they would\", \"they'd've\": \"they would have\",\n",
    "                           \"they'll\": \"they will\", \"they'll've\": \"they will have\", \"they're\": \"they are\", \"they've\": \"they have\", \"to've\": \"to have\",\n",
    "                           \"wasn't\": \"was not\", \"we'd\": \"we would\", \"we'd've\": \"we would have\", \"we'll\": \"we will\", \"we'll've\": \"we will have\", \"we're\": \"we are\",\n",
    "                           \"we've\": \"we have\", \"weren't\": \"were not\", \"what'll\": \"what will\", \"what'll've\": \"what will have\", \"what're\": \"what are\",\n",
    "                           \"what's\": \"what is\", \"what've\": \"what have\", \"when's\": \"when is\", \"when've\": \"when have\", \"where'd\": \"where did\", \"where's\": \"where is\",\n",
    "                           \"where've\": \"where have\", \"who'll\": \"who will\", \"who'll've\": \"who will have\", \"who's\": \"who is\", \"who've\": \"who have\",\n",
    "                           \"why's\": \"why is\", \"why've\": \"why have\", \"will've\": \"will have\", \"won't\": \"will not\", \"won't've\": \"will not have\",\n",
    "                           \"would've\": \"would have\", \"wouldn't\": \"would not\", \"wouldn't've\": \"would not have\", \"y'all\": \"you all\",\n",
    "                           \"y'all'd\": \"you all would\",\"y'all'd've\": \"you all would have\",\"y'all're\": \"you all are\",\"y'all've\": \"you all have\",\n",
    "                           \"you'd\": \"you would\", \"you'd've\": \"you would have\", \"you'll\": \"you will\", \"you'll've\": \"you will have\",\n",
    "                           \"you're\": \"you are\", \"you've\": \"you have\"}\n",
    "\n",
    "print(\"정규화 사전의 수: \", len(contractions))"
   ]
  },
  {
   "cell_type": "code",
   "execution_count": 9,
   "metadata": {
    "colab": {
     "base_uri": "https://localhost:8080/"
    },
    "id": "5hiZJwXAT38z",
    "outputId": "ffbc23e7-f248-49e0-dd5d-d9c7984d9cf8"
   },
   "outputs": [
    {
     "name": "stdout",
     "output_type": "stream",
     "text": [
      "불용어 개수 : 179\n",
      "['i', 'me', 'my', 'myself', 'we', 'our', 'ours', 'ourselves', 'you', \"you're\", \"you've\", \"you'll\", \"you'd\", 'your', 'yours', 'yourself', 'yourselves', 'he', 'him', 'his', 'himself', 'she', \"she's\", 'her', 'hers', 'herself', 'it', \"it's\", 'its', 'itself', 'they', 'them', 'their', 'theirs', 'themselves', 'what', 'which', 'who', 'whom', 'this', 'that', \"that'll\", 'these', 'those', 'am', 'is', 'are', 'was', 'were', 'be', 'been', 'being', 'have', 'has', 'had', 'having', 'do', 'does', 'did', 'doing', 'a', 'an', 'the', 'and', 'but', 'if', 'or', 'because', 'as', 'until', 'while', 'of', 'at', 'by', 'for', 'with', 'about', 'against', 'between', 'into', 'through', 'during', 'before', 'after', 'above', 'below', 'to', 'from', 'up', 'down', 'in', 'out', 'on', 'off', 'over', 'under', 'again', 'further', 'then', 'once', 'here', 'there', 'when', 'where', 'why', 'how', 'all', 'any', 'both', 'each', 'few', 'more', 'most', 'other', 'some', 'such', 'no', 'nor', 'not', 'only', 'own', 'same', 'so', 'than', 'too', 'very', 's', 't', 'can', 'will', 'just', 'don', \"don't\", 'should', \"should've\", 'now', 'd', 'll', 'm', 'o', 're', 've', 'y', 'ain', 'aren', \"aren't\", 'couldn', \"couldn't\", 'didn', \"didn't\", 'doesn', \"doesn't\", 'hadn', \"hadn't\", 'hasn', \"hasn't\", 'haven', \"haven't\", 'isn', \"isn't\", 'ma', 'mightn', \"mightn't\", 'mustn', \"mustn't\", 'needn', \"needn't\", 'shan', \"shan't\", 'shouldn', \"shouldn't\", 'wasn', \"wasn't\", 'weren', \"weren't\", 'won', \"won't\", 'wouldn', \"wouldn't\"]\n"
     ]
    }
   ],
   "source": [
    "print('불용어 개수 :', len(stopwords.words('english') ))\n",
    "print(stopwords.words('english'))"
   ]
  },
  {
   "cell_type": "code",
   "execution_count": 10,
   "metadata": {
    "id": "kpcxQ_aTT5ld"
   },
   "outputs": [],
   "source": [
    "# 데이터 전처리 함수\n",
    "def preprocess_sentence(sentence, remove_stopwords=True):\n",
    "    sentence = sentence.lower() # 텍스트 소문자화\n",
    "    sentence = BeautifulSoup(sentence, \"lxml\").get_text(separator=\" \") # <br />, <a href = ...> 등의 html 태그 공백으로 치환\n",
    "    sentence = re.sub(r'\\([^)]*\\)', '', sentence) # 괄호로 닫힌 문자열 (...) 제거 Ex) my husband (and myself!) for => my husband for\n",
    "    sentence = re.sub('\"','', sentence) # 쌍따옴표 \" 제거\n",
    "    sentence = ' '.join([contractions[t] if t in contractions else t for t in sentence.split(\" \")]) # 약어 정규화\n",
    "    sentence = re.sub(r\"'s\\b\",\"\", sentence) # 소유격 제거. Ex) roland's -> roland\n",
    "    sentence = re.sub(\"[^a-zA-Z]\", \" \", sentence) # 영어 외 문자(숫자, 특수문자 등) 공백으로 변환\n",
    "    sentence = re.sub('[m]{2,}', 'mm', sentence) # m이 3개 이상이면 2개로 변경. Ex) ummmmmmm yeah -> umm yeah\n",
    "\n",
    "    # 불용어 제거 (Text)\n",
    "    if remove_stopwords:\n",
    "        tokens = ' '.join(word for word in sentence.split() if not word in stopwords.words('english') if len(word) > 1)\n",
    "    # 불용어 미제거 (Summary)\n",
    "    else:\n",
    "        tokens = ' '.join(word for word in sentence.split() if len(word) > 1)\n",
    "    return tokens\n",
    "# temp_text = 'Everything I bought was great, infact I ordered twice and the third ordered wasasdas<br />for my mother and father.'\n",
    "# temp_summary = 'Great way to start (or finish) the day!!!'\n",
    "\n",
    "# print(\"text: \", preprocess_sentence(temp_text))\n",
    "# print(\"summary:\", preprocess_sentence(temp_summary, False))  # 불용어를 제거하지 않습니다."
   ]
  },
  {
   "cell_type": "code",
   "execution_count": 11,
   "metadata": {
    "id": "ayFF_0QJT7xw"
   },
   "outputs": [],
   "source": [
    "#데이터 전처리가 오래걸려 파일로 저장 및 불러오기\n",
    "def load_processedData() :\n",
    "    file = 'data.pkl'     # 예제 Textfile\n",
    "    if os.path.isfile(file):\n",
    "        dt = pd.read_pickle(file)\n",
    "    else :\n",
    "        dt = preprocess()\n",
    "        dt.to_pickle(file)\n",
    "    return dt"
   ]
  },
  {
   "cell_type": "code",
   "execution_count": 12,
   "metadata": {
    "id": "ipFKmjidT939"
   },
   "outputs": [],
   "source": [
    "def preprocess() :\n",
    "    dt = data\n",
    "    clean_text = []\n",
    "    for index, row in data.iterrows():\n",
    "        clean_text.append(preprocess_sentence(row['text']))\n",
    "    print(\"Text 전처리 후 결과: \", clean_text[:5])\n",
    "\n",
    "    clean_summary = []\n",
    "    for index, row in dt.iterrows():\n",
    "        clean_summary.append(preprocess_sentence(row['headlines'],False))\n",
    "    print(\"headlines 전처리 후 결과: \", clean_summary[:5])\n",
    "    dt['text'] = clean_text\n",
    "    dt['headlines'] = clean_summary\n",
    "    # 빈 값을 Null 값으로 변환\n",
    "    dt.replace('', np.nan, inplace=True)\n",
    "    dt.dropna(axis=0, inplace=True)\n",
    "    return dt"
   ]
  },
  {
   "cell_type": "code",
   "execution_count": 13,
   "metadata": {
    "colab": {
     "base_uri": "https://localhost:8080/"
    },
    "id": "UHUMtLg9T_ot",
    "outputId": "c2e74560-63c9-4fd1-b08e-40e0c594cbf7"
   },
   "outputs": [
    {
     "name": "stdout",
     "output_type": "stream",
     "text": [
      "Text 전처리 후 결과:  ['saurav kant alumnus upgrad iiit pg program machine learning artificial intelligence sr systems engineer infosys almost years work experience program upgrad degree career support helped transition data scientist tech mahindra salary hike upgrad online power learning powered lakh careers', 'kunal shah credit card bill payment platform cred gave users chance win free food swiggy one year pranav kaushik delhi techie bagged reward spending cred coins users get one cred coin per rupee bill paid used avail rewards brands like ixigo bookmyshow ubereats cult fit', 'new zealand defeated india wickets fourth odi hamilton thursday win first match five match odi series india lost international match rohit sharma captaincy consecutive victories dating back march match witnessed india getting seventh lowest total odi cricket history', 'aegon life iterm insurance plan customers enjoy tax benefits premiums paid save taxes plan provides life cover age years also customers options insure critical illnesses disability accidental death benefit rider life cover age years', 'speaking sexual harassment allegations rajkumar hirani sonam kapoor said known hirani many years true metoo movement get derailed metoo movement always believe woman case need reserve judgment added hirani accused assistant worked sanju']\n",
      "headlines 전처리 후 결과:  ['upgrad learner switches to career in ml al with salary hike', 'delhi techie wins free food from swiggy for one year on cred', 'new zealand end rohit sharma led india match winning streak', 'aegon life iterm insurance plan helps customers save tax', 'have known hirani for yrs what if metoo claims are not true sonam']\n"
     ]
    }
   ],
   "source": [
    "data = load_processedData()"
   ]
  },
  {
   "cell_type": "code",
   "execution_count": 14,
   "metadata": {
    "colab": {
     "base_uri": "https://localhost:8080/",
     "height": 1000
    },
    "id": "OwwUXDUoUCnb",
    "outputId": "c37dcd91-6b77-4431-e97f-1821ad4fb2a7"
   },
   "outputs": [
    {
     "name": "stdout",
     "output_type": "stream",
     "text": [
      "텍스트의 최소 길이 : 1\n",
      "텍스트의 최대 길이 : 60\n",
      "텍스트의 평균 길이 : 35.09968483123221\n",
      "요약의 최소 길이 : 1\n",
      "요약의 최대 길이 : 16\n",
      "요약의 평균 길이 : 9.299532330215534\n"
     ]
    },
    {
     "data": {
      "image/png": "[encoded data removed]",
      "text/plain": [
       "<Figure size 432x288 with 2 Axes>"
      ]
     },
     "metadata": {
      "needs_background": "light"
     },
     "output_type": "display_data"
    },
    {
     "data": {
      "image/png": "[encoded data removed]",
      "text/plain": [
       "<Figure size 432x288 with 1 Axes>"
      ]
     },
     "metadata": {
      "needs_background": "light"
     },
     "output_type": "display_data"
    },
    {
     "data": {
      "image/png": "[encoded data removed]",
      "text/plain": [
       "<Figure size 432x288 with 1 Axes>"
      ]
     },
     "metadata": {
      "needs_background": "light"
     },
     "output_type": "display_data"
    }
   ],
   "source": [
    "text_len = [len(s.split()) for s in data['text']]\n",
    "summary_len = [len(s.split()) for s in data['headlines']]\n",
    "\n",
    "print('텍스트의 최소 길이 : {}'.format(np.min(text_len)))\n",
    "print('텍스트의 최대 길이 : {}'.format(np.max(text_len)))\n",
    "print('텍스트의 평균 길이 : {}'.format(np.mean(text_len)))\n",
    "print('요약의 최소 길이 : {}'.format(np.min(summary_len)))\n",
    "print('요약의 최대 길이 : {}'.format(np.max(summary_len)))\n",
    "print('요약의 평균 길이 : {}'.format(np.mean(summary_len)))\n",
    "\n",
    "plt.subplot(1,2,1)\n",
    "plt.boxplot(text_len)\n",
    "plt.title('text')\n",
    "plt.subplot(1,2,2)\n",
    "plt.boxplot(summary_len)\n",
    "plt.title('headlines')\n",
    "plt.tight_layout()\n",
    "plt.show()\n",
    "\n",
    "plt.title('text')\n",
    "plt.hist(text_len, bins = 40)\n",
    "plt.xlabel('length of samples')\n",
    "plt.ylabel('number of samples')\n",
    "plt.show()\n",
    "\n",
    "plt.title('headlines')\n",
    "plt.hist(summary_len, bins = 40)\n",
    "plt.xlabel('length of samples')\n",
    "plt.ylabel('number of samples')\n",
    "plt.show()"
   ]
  },
  {
   "cell_type": "code",
   "execution_count": 15,
   "metadata": {
    "colab": {
     "base_uri": "https://localhost:8080/"
    },
    "id": "O--NjFvsXyQe",
    "outputId": "da67ad43-efbf-4c67-d886-b5e36678be87"
   },
   "outputs": [
    {
     "name": "stdout",
     "output_type": "stream",
     "text": [
      "=3\n"
     ]
    }
   ],
   "source": [
    "#최대길이가 크지 않고 편차도 크지 않으므로 그대로 사용한다.\n",
    "text_max_len = 60\n",
    "summary_max_len = 16\n",
    "print('=3')"
   ]
  },
  {
   "cell_type": "code",
   "execution_count": 16,
   "metadata": {
    "colab": {
     "base_uri": "https://localhost:8080/",
     "height": 337
    },
    "id": "3sZwLk4lh4FF",
    "outputId": "84c65135-b73b-400c-c2cb-e0ba2b05fb5b"
   },
   "outputs": [
    {
     "data": {
      "text/html": [
       "<div>\n",
       "<style scoped>\n",
       "    .dataframe tbody tr th:only-of-type {\n",
       "        vertical-align: middle;\n",
       "    }\n",
       "\n",
       "    .dataframe tbody tr th {\n",
       "        vertical-align: top;\n",
       "    }\n",
       "\n",
       "    .dataframe thead th {\n",
       "        text-align: right;\n",
       "    }\n",
       "</style>\n",
       "<table border=\"1\" class=\"dataframe\">\n",
       "  <thead>\n",
       "    <tr style=\"text-align: right;\">\n",
       "      <th></th>\n",
       "      <th>headlines</th>\n",
       "      <th>text</th>\n",
       "      <th>decoder_input</th>\n",
       "      <th>decoder_target</th>\n",
       "    </tr>\n",
       "  </thead>\n",
       "  <tbody>\n",
       "    <tr>\n",
       "      <th>0</th>\n",
       "      <td>upgrad learner switches to career in ml al wit...</td>\n",
       "      <td>saurav kant alumnus upgrad iiit pg program mac...</td>\n",
       "      <td>sostoken upgrad learner switches to career in ...</td>\n",
       "      <td>upgrad learner switches to career in ml al wit...</td>\n",
       "    </tr>\n",
       "    <tr>\n",
       "      <th>1</th>\n",
       "      <td>delhi techie wins free food from swiggy for on...</td>\n",
       "      <td>kunal shah credit card bill payment platform c...</td>\n",
       "      <td>sostoken delhi techie wins free food from swig...</td>\n",
       "      <td>delhi techie wins free food from swiggy for on...</td>\n",
       "    </tr>\n",
       "    <tr>\n",
       "      <th>2</th>\n",
       "      <td>new zealand end rohit sharma led india match w...</td>\n",
       "      <td>new zealand defeated india wickets fourth odi ...</td>\n",
       "      <td>sostoken new zealand end rohit sharma led indi...</td>\n",
       "      <td>new zealand end rohit sharma led india match w...</td>\n",
       "    </tr>\n",
       "    <tr>\n",
       "      <th>3</th>\n",
       "      <td>aegon life iterm insurance plan helps customer...</td>\n",
       "      <td>aegon life iterm insurance plan customers enjo...</td>\n",
       "      <td>sostoken aegon life iterm insurance plan helps...</td>\n",
       "      <td>aegon life iterm insurance plan helps customer...</td>\n",
       "    </tr>\n",
       "    <tr>\n",
       "      <th>4</th>\n",
       "      <td>have known hirani for yrs what if metoo claims...</td>\n",
       "      <td>speaking sexual harassment allegations rajkuma...</td>\n",
       "      <td>sostoken have known hirani for yrs what if met...</td>\n",
       "      <td>have known hirani for yrs what if metoo claims...</td>\n",
       "    </tr>\n",
       "  </tbody>\n",
       "</table>\n",
       "</div>"
      ],
      "text/plain": [
       "                                           headlines  \\\n",
       "0  upgrad learner switches to career in ml al wit...   \n",
       "1  delhi techie wins free food from swiggy for on...   \n",
       "2  new zealand end rohit sharma led india match w...   \n",
       "3  aegon life iterm insurance plan helps customer...   \n",
       "4  have known hirani for yrs what if metoo claims...   \n",
       "\n",
       "                                                text  \\\n",
       "0  saurav kant alumnus upgrad iiit pg program mac...   \n",
       "1  kunal shah credit card bill payment platform c...   \n",
       "2  new zealand defeated india wickets fourth odi ...   \n",
       "3  aegon life iterm insurance plan customers enjo...   \n",
       "4  speaking sexual harassment allegations rajkuma...   \n",
       "\n",
       "                                       decoder_input  \\\n",
       "0  sostoken upgrad learner switches to career in ...   \n",
       "1  sostoken delhi techie wins free food from swig...   \n",
       "2  sostoken new zealand end rohit sharma led indi...   \n",
       "3  sostoken aegon life iterm insurance plan helps...   \n",
       "4  sostoken have known hirani for yrs what if met...   \n",
       "\n",
       "                                      decoder_target  \n",
       "0  upgrad learner switches to career in ml al wit...  \n",
       "1  delhi techie wins free food from swiggy for on...  \n",
       "2  new zealand end rohit sharma led india match w...  \n",
       "3  aegon life iterm insurance plan helps customer...  \n",
       "4  have known hirani for yrs what if metoo claims...  "
      ]
     },
     "execution_count": 16,
     "metadata": {},
     "output_type": "execute_result"
    }
   ],
   "source": [
    "data['decoder_input'] = data['headlines'].apply(lambda x : 'sostoken '+ x)\n",
    "data['decoder_target'] = data['headlines'].apply(lambda x : x + ' eostoken')\n",
    "data.head()"
   ]
  },
  {
   "cell_type": "code",
   "execution_count": 17,
   "metadata": {
    "id": "w0pYev-ih5ps"
   },
   "outputs": [],
   "source": [
    "encoder_input = np.array(data['text']) # 인코더의 입력\n",
    "decoder_input = np.array(data['decoder_input']) # 디코더의 입력\n",
    "decoder_target = np.array(data['decoder_target']) # 디코더의 레이블"
   ]
  },
  {
   "cell_type": "code",
   "execution_count": 18,
   "metadata": {
    "colab": {
     "base_uri": "https://localhost:8080/"
    },
    "id": "_s_jtnrsh7OH",
    "outputId": "60467b3c-0b7d-4380-821e-46d2653c7ce0"
   },
   "outputs": [
    {
     "name": "stdout",
     "output_type": "stream",
     "text": [
      "[20040 93161 24748 ... 46918 31300 58291]\n"
     ]
    }
   ],
   "source": [
    "indices = np.arange(encoder_input.shape[0])\n",
    "np.random.shuffle(indices)\n",
    "print(indices)"
   ]
  },
  {
   "cell_type": "code",
   "execution_count": 19,
   "metadata": {
    "id": "usHRzCgGh8t3"
   },
   "outputs": [],
   "source": [
    "encoder_input = encoder_input[indices]\n",
    "decoder_input = decoder_input[indices]\n",
    "decoder_target = decoder_target[indices]"
   ]
  },
  {
   "cell_type": "code",
   "execution_count": 21,
   "metadata": {
    "colab": {
     "base_uri": "https://localhost:8080/"
    },
    "id": "zsk7aGmrlJd-",
    "outputId": "abbdde17-ee05-45ee-a9af-43fdb99792fa"
   },
   "outputs": [
    {
     "name": "stdout",
     "output_type": "stream",
     "text": [
      "[[66, 431, 344, 47, 14, 3269, 2842, 156, 26538, 2842, 2701, 2, 7, 1078, 3565, 29100, 820, 1571, 5701, 2554, 26538, 11224, 127, 768, 2812, 3565, 2701, 820, 1571, 3565, 321, 76, 1055, 191, 502]]\n"
     ]
    }
   ],
   "source": [
    "from keras.preprocessing.text import Tokenizer\n",
    "\n",
    "# Assuming encoder_input is a list of text data\n",
    "src_tokenizer = Tokenizer()\n",
    "src_tokenizer.fit_on_texts(encoder_input)\n",
    "\n",
    "# Now you can use src_tokenizer.texts_to_sequences\n",
    "sequences = src_tokenizer.texts_to_sequences([encoder_input[50]])\n",
    "print(sequences)"
   ]
  },
  {
   "cell_type": "code",
   "execution_count": 22,
   "metadata": {
    "colab": {
     "base_uri": "https://localhost:8080/"
    },
    "id": "i3DwKxHalZ8W",
    "outputId": "f41372f0-a8ed-4f34-85d4-48320998390c"
   },
   "outputs": [
    {
     "name": "stdout",
     "output_type": "stream",
     "text": [
      "테스트 데이터의 수 : 19672\n"
     ]
    }
   ],
   "source": [
    "n_of_val = int(len(encoder_input)*0.2)\n",
    "print('테스트 데이터의 수 :', n_of_val)"
   ]
  },
  {
   "cell_type": "code",
   "execution_count": 23,
   "metadata": {
    "colab": {
     "base_uri": "https://localhost:8080/"
    },
    "id": "Mei5hY3alcyL",
    "outputId": "8bca2e4a-9d8f-4192-f9b5-fa45a898c0c5"
   },
   "outputs": [
    {
     "name": "stdout",
     "output_type": "stream",
     "text": [
      "훈련 데이터의 개수 : 78688\n",
      "훈련 레이블의 개수 : 78688\n",
      "테스트 데이터의 개수 : 19672\n",
      "테스트 레이블의 개수 : 19672\n"
     ]
    }
   ],
   "source": [
    "encoder_input_train = encoder_input[:-n_of_val]\n",
    "decoder_input_train = decoder_input[:-n_of_val]\n",
    "decoder_target_train = decoder_target[:-n_of_val]\n",
    "\n",
    "encoder_input_test = encoder_input[-n_of_val:]\n",
    "decoder_input_test = decoder_input[-n_of_val:]\n",
    "decoder_target_test = decoder_target[-n_of_val:]\n",
    "\n",
    "print('훈련 데이터의 개수 :', len(encoder_input_train))\n",
    "print('훈련 레이블의 개수 :', len(decoder_input_train))\n",
    "print('테스트 데이터의 개수 :', len(encoder_input_test))\n",
    "print('테스트 레이블의 개수 :', len(decoder_input_test))"
   ]
  },
  {
   "cell_type": "code",
   "execution_count": 24,
   "metadata": {
    "id": "sWzYUwgGlg80"
   },
   "outputs": [],
   "source": [
    "src_tokenizer = Tokenizer() # 토크나이저 정의\n",
    "src_tokenizer.fit_on_texts(encoder_input_train) # 입력된 데이터로부터 단어 집합 생성"
   ]
  },
  {
   "cell_type": "code",
   "execution_count": 25,
   "metadata": {
    "colab": {
     "base_uri": "https://localhost:8080/"
    },
    "id": "tPfcSHpDlhwr",
    "outputId": "77749375-ab94-45ce-b849-810d2c40bf9c"
   },
   "outputs": [
    {
     "name": "stdout",
     "output_type": "stream",
     "text": [
      "단어 집합(vocabulary)의 크기 : 69623\n",
      "등장 빈도가 6번 이하인 희귀 단어의 수: 47455\n",
      "단어 집합에서 희귀 단어를 제외시킬 경우의 단어 집합의 크기 22168\n",
      "단어 집합에서 희귀 단어의 비율: 68.1599471439036\n",
      "전체 등장 빈도에서 희귀 단어 등장 빈도 비율: 3.481865254957451\n"
     ]
    }
   ],
   "source": [
    "threshold = 7\n",
    "total_cnt = len(src_tokenizer.word_index) # 단어의 수\n",
    "rare_cnt = 0 # 등장 빈도수가 threshold보다 작은 단어의 개수를 카운트\n",
    "total_freq = 0 # 훈련 데이터의 전체 단어 빈도수 총 합\n",
    "rare_freq = 0 # 등장 빈도수가 threshold보다 작은 단어의 등장 빈도수의 총 합\n",
    "\n",
    "# 단어와 빈도수의 쌍(pair)을 key와 value로 받는다.\n",
    "for key, value in src_tokenizer.word_counts.items():\n",
    "    total_freq = total_freq + value\n",
    "\n",
    "    # 단어의 등장 빈도수가 threshold보다 작으면\n",
    "    if(value < threshold):\n",
    "        rare_cnt = rare_cnt + 1\n",
    "        rare_freq = rare_freq + value\n",
    "\n",
    "print('단어 집합(vocabulary)의 크기 :', total_cnt)\n",
    "print('등장 빈도가 %s번 이하인 희귀 단어의 수: %s'%(threshold - 1, rare_cnt))\n",
    "print('단어 집합에서 희귀 단어를 제외시킬 경우의 단어 집합의 크기 %s'%(total_cnt - rare_cnt))\n",
    "print(\"단어 집합에서 희귀 단어의 비율:\", (rare_cnt / total_cnt)*100)\n",
    "print(\"전체 등장 빈도에서 희귀 단어 등장 빈도 비율:\", (rare_freq / total_freq)*100)"
   ]
  },
  {
   "cell_type": "code",
   "execution_count": 26,
   "metadata": {
    "id": "T7Z-USxdln3m"
   },
   "outputs": [],
   "source": [
    "src_vocab = 20000\n",
    "src_tokenizer = Tokenizer(num_words=src_vocab) # 단어 집합의 크기를 20,000으로 제한\n",
    "src_tokenizer.fit_on_texts(encoder_input_train) # 단어 집합 재생성"
   ]
  },
  {
   "cell_type": "code",
   "execution_count": 27,
   "metadata": {
    "colab": {
     "base_uri": "https://localhost:8080/"
    },
    "id": "qmxHPz6Jlp35",
    "outputId": "b34a53cd-6278-458d-b759-36edf8566f3a"
   },
   "outputs": [
    {
     "name": "stdout",
     "output_type": "stream",
     "text": [
      "[[50, 8045, 15396, 181, 486, 538, 15, 7911, 1051, 24, 222, 296, 1, 777, 118, 145, 108, 780, 630, 280, 285, 8045, 402, 804, 352, 7911, 753, 1186, 7448, 10069, 176, 311], [528, 2858, 123, 102, 1888, 2, 1125, 39, 183, 71, 195, 706, 278, 828, 2858, 145, 183, 71, 2858, 123, 4404, 4065, 1577, 3353, 3256, 16692, 846, 5206, 145, 382, 313, 2858, 123, 860, 218, 70, 1740, 935, 70, 2280, 2858, 210], [312, 497, 4526, 70, 297, 3, 1866, 5, 35, 6650, 3383, 4638, 15397, 3383, 128, 30, 4526, 299, 229, 101, 367, 70, 247, 1569, 3951, 298, 107, 4526, 3206, 1513, 5840, 31, 3207, 3, 3292, 218, 70, 101, 344, 29, 3]]\n"
     ]
    }
   ],
   "source": [
    "# 텍스트 시퀀스를 정수 시퀀스로 변환\n",
    "encoder_input_train = src_tokenizer.texts_to_sequences(encoder_input_train)\n",
    "encoder_input_test = src_tokenizer.texts_to_sequences(encoder_input_test)\n",
    "\n",
    "# 잘 진행되었는지 샘플 출력\n",
    "print(encoder_input_train[:3])"
   ]
  },
  {
   "cell_type": "code",
   "execution_count": 28,
   "metadata": {
    "id": "tlU7xHHolr4I"
   },
   "outputs": [],
   "source": [
    "tar_tokenizer = Tokenizer()\n",
    "tar_tokenizer.fit_on_texts(decoder_input_train)"
   ]
  },
  {
   "cell_type": "code",
   "execution_count": 29,
   "metadata": {
    "colab": {
     "base_uri": "https://localhost:8080/"
    },
    "id": "TKpqx5n2lt6v",
    "outputId": "aa5472bd-4644-482e-8e8e-0e4e789b989a"
   },
   "outputs": [
    {
     "name": "stdout",
     "output_type": "stream",
     "text": [
      "단어 집합(vocabulary)의 크기 : 30090\n",
      "등장 빈도가 4번 이하인 희귀 단어의 수: 18533\n",
      "단어 집합에서 희귀 단어를 제외시킬 경우의 단어 집합의 크기 11557\n",
      "단어 집합에서 희귀 단어의 비율: 61.5918909936856\n",
      "전체 등장 빈도에서 희귀 단어 등장 빈도 비율: 3.9459115848201884\n"
     ]
    }
   ],
   "source": [
    "threshold = 5\n",
    "total_cnt = len(tar_tokenizer.word_index) # 단어의 수\n",
    "rare_cnt = 0 # 등장 빈도수가 threshold보다 작은 단어의 개수를 카운트\n",
    "total_freq = 0 # 훈련 데이터의 전체 단어 빈도수 총 합\n",
    "rare_freq = 0 # 등장 빈도수가 threshold보다 작은 단어의 등장 빈도수의 총 합\n",
    "\n",
    "# 단어와 빈도수의 쌍(pair)을 key와 value로 받는다.\n",
    "for key, value in tar_tokenizer.word_counts.items():\n",
    "    total_freq = total_freq + value\n",
    "\n",
    "    # 단어의 등장 빈도수가 threshold보다 작으면\n",
    "    if(value < threshold):\n",
    "        rare_cnt = rare_cnt + 1\n",
    "        rare_freq = rare_freq + value\n",
    "\n",
    "print('단어 집합(vocabulary)의 크기 :', total_cnt)\n",
    "print('등장 빈도가 %s번 이하인 희귀 단어의 수: %s'%(threshold - 1, rare_cnt))\n",
    "print('단어 집합에서 희귀 단어를 제외시킬 경우의 단어 집합의 크기 %s'%(total_cnt - rare_cnt))\n",
    "print(\"단어 집합에서 희귀 단어의 비율:\", (rare_cnt / total_cnt)*100)\n",
    "print(\"전체 등장 빈도에서 희귀 단어 등장 빈도 비율:\", (rare_freq / total_freq)*100)"
   ]
  },
  {
   "cell_type": "code",
   "execution_count": 30,
   "metadata": {
    "colab": {
     "base_uri": "https://localhost:8080/"
    },
    "id": "DNhh_yHjlyHt",
    "outputId": "6c8edcd0-d55d-4e52-cc5a-ea8f05074120"
   },
   "outputs": [
    {
     "name": "stdout",
     "output_type": "stream",
     "text": [
      "input\n",
      "input  [[1, 106, 1190, 106, 147, 10, 124, 8800, 2092, 10420, 7, 57, 103], [1, 362, 1443, 327, 490, 1228, 46, 1824, 182, 239], [1, 3240, 167, 190, 47, 225, 15, 13, 468, 6845], [1, 396, 1317, 17, 38, 280, 5, 2850, 850, 2240], [1, 2694, 5655, 491, 5, 3519, 4, 18, 13]]\n",
      "target\n",
      "decoder  [[106, 1190, 106, 147, 10, 124, 8800, 2092, 10420, 7, 57, 103, 2], [362, 1443, 327, 490, 1228, 46, 1824, 182, 239, 2], [3240, 167, 190, 47, 225, 15, 13, 468, 6845, 2], [396, 1317, 17, 38, 280, 5, 2850, 850, 2240, 2], [2694, 5655, 491, 5, 3519, 4, 18, 13, 2]]\n"
     ]
    }
   ],
   "source": [
    "tar_vocab = 11000\n",
    "tar_tokenizer = Tokenizer(num_words=tar_vocab)\n",
    "tar_tokenizer.fit_on_texts(decoder_input_train)\n",
    "tar_tokenizer.fit_on_texts(decoder_target_train)\n",
    "\n",
    "# 텍스트 시퀀스를 정수 시퀀스로 변환\n",
    "decoder_input_train = tar_tokenizer.texts_to_sequences(decoder_input_train)\n",
    "decoder_target_train = tar_tokenizer.texts_to_sequences(decoder_target_train)\n",
    "decoder_input_test = tar_tokenizer.texts_to_sequences(decoder_input_test)\n",
    "decoder_target_test = tar_tokenizer.texts_to_sequences(decoder_target_test)\n",
    "\n",
    "# 잘 변환되었는지 확인\n",
    "print('input')\n",
    "print('input ',decoder_input_train[:5])\n",
    "print('target')\n",
    "print('decoder ',decoder_target_train[:5])"
   ]
  },
  {
   "cell_type": "code",
   "execution_count": 31,
   "metadata": {
    "colab": {
     "base_uri": "https://localhost:8080/"
    },
    "id": "3XQgVa2Rl0aA",
    "outputId": "9cc14ea7-615e-4658-d6d4-79088b9bce60"
   },
   "outputs": [
    {
     "name": "stdout",
     "output_type": "stream",
     "text": [
      "삭제할 훈련 데이터의 개수 : 0\n",
      "삭제할 테스트 데이터의 개수 : 0\n",
      "훈련 데이터의 개수 : 78688\n",
      "훈련 레이블의 개수 : 78688\n",
      "테스트 데이터의 개수 : 19672\n",
      "테스트 레이블의 개수 : 19672\n"
     ]
    }
   ],
   "source": [
    "drop_train = [index for index, sentence in enumerate(decoder_input_train) if len(sentence) == 1]\n",
    "drop_test = [index for index, sentence in enumerate(decoder_input_test) if len(sentence) == 1]\n",
    "\n",
    "print('삭제할 훈련 데이터의 개수 :', len(drop_train))\n",
    "print('삭제할 테스트 데이터의 개수 :', len(drop_test))\n",
    "\n",
    "encoder_input_train = [sentence for index, sentence in enumerate(encoder_input_train) if index not in drop_train]\n",
    "decoder_input_train = [sentence for index, sentence in enumerate(decoder_input_train) if index not in drop_train]\n",
    "decoder_target_train = [sentence for index, sentence in enumerate(decoder_target_train) if index not in drop_train]\n",
    "\n",
    "encoder_input_test = [sentence for index, sentence in enumerate(encoder_input_test) if index not in drop_test]\n",
    "decoder_input_test = [sentence for index, sentence in enumerate(decoder_input_test) if index not in drop_test]\n",
    "decoder_target_test = [sentence for index, sentence in enumerate(decoder_target_test) if index not in drop_test]\n",
    "\n",
    "print('훈련 데이터의 개수 :', len(encoder_input_train))\n",
    "print('훈련 레이블의 개수 :', len(decoder_input_train))\n",
    "print('테스트 데이터의 개수 :', len(encoder_input_test))\n",
    "print('테스트 레이블의 개수 :', len(decoder_input_test))"
   ]
  },
  {
   "cell_type": "code",
   "execution_count": 32,
   "metadata": {
    "id": "F3rhCEI6l2mB"
   },
   "outputs": [],
   "source": [
    "encoder_input_train = pad_sequences(encoder_input_train, maxlen=text_max_len, padding='post')\n",
    "encoder_input_test = pad_sequences(encoder_input_test, maxlen=text_max_len, padding='post')\n",
    "decoder_input_train = pad_sequences(decoder_input_train, maxlen=summary_max_len, padding='post')\n",
    "decoder_target_train = pad_sequences(decoder_target_train, maxlen=summary_max_len, padding='post')\n",
    "decoder_input_test = pad_sequences(decoder_input_test, maxlen=summary_max_len, padding='post')\n",
    "decoder_target_test = pad_sequences(decoder_target_test, maxlen=summary_max_len, padding='post')"
   ]
  },
  {
   "cell_type": "code",
   "execution_count": 33,
   "metadata": {
    "colab": {
     "base_uri": "https://localhost:8080/"
    },
    "id": "7GbCT2UYl4nt",
    "outputId": "a4c93404-d4b8-4f0b-9f93-0e282ed6dfe2"
   },
   "outputs": [
    {
     "name": "stdout",
     "output_type": "stream",
     "text": [
      "KerasTensor(type_spec=TensorSpec(shape=(None, 60), dtype=tf.float32, name='input_1'), name='input_1', description=\"created by layer 'input_1'\")\n"
     ]
    }
   ],
   "source": [
    "# 인코더 설계 시작\n",
    "embedding_dim = 128\n",
    "hidden_size = 256\n",
    "\n",
    "# 인코더\n",
    "encoder_inputs = Input(shape=(text_max_len,))\n",
    "print(encoder_inputs)\n",
    "# 인코더의 임베딩 층\n",
    "enc_emb = Embedding(src_vocab, embedding_dim)(encoder_inputs)\n",
    "\n",
    "# 인코더의 LSTM 1\n",
    "# encoder_lstm1 = LSTM(hidden_size, return_sequences=True, return_state=True ,dropout = 0.4, recurrent_dropout = 0.4)\n",
    "encoder_lstm1 = LSTM(hidden_size, return_sequences=True, return_state=True ,dropout = 0.4)\n",
    "encoder_output1, state_h1, state_c1 = encoder_lstm1(enc_emb)\n",
    "\n",
    "# 인코더의 LSTM 2\n",
    "encoder_lstm2 = LSTM(hidden_size, return_sequences=True, return_state=True ,dropout = 0.4)\n",
    "encoder_output2, state_h2, state_c2 = encoder_lstm2(encoder_output1)\n",
    "\n",
    "# 인코더의 LSTM 3\n",
    "encoder_lstm3 = LSTM(hidden_size, return_sequences=False, return_state=True ,dropout = 0.4)\n",
    "encoder_outputs, state_h, state_c = encoder_lstm2(encoder_output2)"
   ]
  },
  {
   "cell_type": "code",
   "execution_count": 34,
   "metadata": {
    "id": "mA0A0d9Il7tI"
   },
   "outputs": [],
   "source": [
    "# 디코더 설계\n",
    "decoder_inputs = Input(shape=(None,))\n",
    "\n",
    "# 디코더의 임베딩 층\n",
    "dec_emb_layer = Embedding(tar_vocab, embedding_dim)\n",
    "dec_emb = dec_emb_layer(decoder_inputs)\n",
    "\n",
    "# 디코더의 LSTM\n",
    "# decoder_lstm = LSTM(hidden_size, return_sequences=True, return_state=True, dropout=0.4, recurrent_dropout=0.2)\n",
    "decoder_lstm = LSTM(hidden_size, return_sequences=True, return_state=True, dropout=0.4)\n",
    "decoder_outputs, _, _ = decoder_lstm(dec_emb, initial_state=[state_h, state_c])"
   ]
  },
  {
   "cell_type": "code",
   "execution_count": 35,
   "metadata": {
    "colab": {
     "base_uri": "https://localhost:8080/"
    },
    "id": "GG22Db1RmA3d",
    "outputId": "47cc9918-f9ce-4f81-ef04-71f8949f473c"
   },
   "outputs": [
    {
     "name": "stdout",
     "output_type": "stream",
     "text": [
      "Model: \"model\"\n",
      "__________________________________________________________________________________________________\n",
      "Layer (type)                    Output Shape         Param #     Connected to                     \n",
      "==================================================================================================\n",
      "input_1 (InputLayer)            [(None, 60)]         0                                            \n",
      "__________________________________________________________________________________________________\n",
      "embedding (Embedding)           (None, 60, 128)      2560000     input_1[0][0]                    \n",
      "__________________________________________________________________________________________________\n",
      "lstm (LSTM)                     [(None, 60, 256), (N 394240      embedding[0][0]                  \n",
      "__________________________________________________________________________________________________\n",
      "input_2 (InputLayer)            [(None, None)]       0                                            \n",
      "__________________________________________________________________________________________________\n",
      "lstm_1 (LSTM)                   [(None, 60, 256), (N 525312      lstm[0][0]                       \n",
      "                                                                 lstm_1[0][0]                     \n",
      "__________________________________________________________________________________________________\n",
      "embedding_1 (Embedding)         (None, None, 128)    1408000     input_2[0][0]                    \n",
      "__________________________________________________________________________________________________\n",
      "lstm_3 (LSTM)                   [(None, None, 256),  394240      embedding_1[0][0]                \n",
      "                                                                 lstm_1[1][1]                     \n",
      "                                                                 lstm_1[1][2]                     \n",
      "__________________________________________________________________________________________________\n",
      "dense (Dense)                   (None, None, 11000)  2827000     lstm_3[0][0]                     \n",
      "==================================================================================================\n",
      "Total params: 8,108,792\n",
      "Trainable params: 8,108,792\n",
      "Non-trainable params: 0\n",
      "__________________________________________________________________________________________________\n"
     ]
    }
   ],
   "source": [
    "# 디코더의 출력층\n",
    "decoder_softmax_layer = Dense(tar_vocab, activation='softmax')\n",
    "decoder_softmax_outputs = decoder_softmax_layer(decoder_outputs)\n",
    "\n",
    "# 모델 정의\n",
    "model = Model([encoder_inputs, decoder_inputs], decoder_softmax_outputs)\n",
    "model.summary()"
   ]
  },
  {
   "cell_type": "code",
   "execution_count": 36,
   "metadata": {
    "colab": {
     "base_uri": "https://localhost:8080/"
    },
    "id": "PrbvRvBqmDtz",
    "outputId": "6e036bd1-4dfa-4742-a6d1-ae26ef319d56"
   },
   "outputs": [
    {
     "name": "stdout",
     "output_type": "stream",
     "text": [
      "Model: \"model_1\"\n",
      "__________________________________________________________________________________________________\n",
      "Layer (type)                    Output Shape         Param #     Connected to                     \n",
      "==================================================================================================\n",
      "input_1 (InputLayer)            [(None, 60)]         0                                            \n",
      "__________________________________________________________________________________________________\n",
      "embedding (Embedding)           (None, 60, 128)      2560000     input_1[0][0]                    \n",
      "__________________________________________________________________________________________________\n",
      "lstm (LSTM)                     [(None, 60, 256), (N 394240      embedding[0][0]                  \n",
      "__________________________________________________________________________________________________\n",
      "input_2 (InputLayer)            [(None, None)]       0                                            \n",
      "__________________________________________________________________________________________________\n",
      "lstm_1 (LSTM)                   [(None, 60, 256), (N 525312      lstm[0][0]                       \n",
      "                                                                 lstm_1[0][0]                     \n",
      "__________________________________________________________________________________________________\n",
      "embedding_1 (Embedding)         (None, None, 128)    1408000     input_2[0][0]                    \n",
      "__________________________________________________________________________________________________\n",
      "lstm_3 (LSTM)                   [(None, None, 256),  394240      embedding_1[0][0]                \n",
      "                                                                 lstm_1[1][1]                     \n",
      "                                                                 lstm_1[1][2]                     \n",
      "__________________________________________________________________________________________________\n",
      "attention_layer (AdditiveAttent (None, None, 256)    256         lstm_3[0][0]                     \n",
      "                                                                 lstm_1[1][0]                     \n",
      "__________________________________________________________________________________________________\n",
      "concat_layer (Concatenate)      (None, None, 512)    0           lstm_3[0][0]                     \n",
      "                                                                 attention_layer[0][0]            \n",
      "__________________________________________________________________________________________________\n",
      "dense_1 (Dense)                 (None, None, 11000)  5643000     concat_layer[0][0]               \n",
      "==================================================================================================\n",
      "Total params: 10,925,048\n",
      "Trainable params: 10,925,048\n",
      "Non-trainable params: 0\n",
      "__________________________________________________________________________________________________\n"
     ]
    }
   ],
   "source": [
    "# 어텐션 층(어텐션 함수)\n",
    "attn_layer = AdditiveAttention(name='attention_layer')\n",
    "\n",
    "# 인코더와 디코더의 모든 time step의 hidden state를 어텐션 층에 전달하고 결과를 리턴\n",
    "attn_out = attn_layer([decoder_outputs, encoder_outputs])\n",
    "\n",
    "\n",
    "# 어텐션의 결과와 디코더의 hidden state들을 연결\n",
    "decoder_concat_input = Concatenate(axis=-1, name='concat_layer')([decoder_outputs, attn_out])\n",
    "\n",
    "# 디코더의 출력층\n",
    "decoder_softmax_layer = Dense(tar_vocab, activation='softmax')\n",
    "decoder_softmax_outputs = decoder_softmax_layer(decoder_concat_input)\n",
    "\n",
    "# 모델 정의\n",
    "model = Model([encoder_inputs, decoder_inputs], decoder_softmax_outputs)\n",
    "model.summary()"
   ]
  },
  {
   "cell_type": "code",
   "execution_count": 37,
   "metadata": {
    "colab": {
     "base_uri": "https://localhost:8080/"
    },
    "id": "xBV7MKSMmJ_e",
    "outputId": "c8bd2902-f1d1-440a-913b-74165a93a236"
   },
   "outputs": [
    {
     "name": "stdout",
     "output_type": "stream",
     "text": [
      "Epoch 1/50\n",
      "308/308 [==============================] - 74s 139ms/step - loss: 4.3509 - val_loss: 3.9926\n",
      "Epoch 2/50\n",
      "308/308 [==============================] - 43s 140ms/step - loss: 3.8645 - val_loss: 3.7050\n",
      "Epoch 3/50\n",
      "308/308 [==============================] - 44s 144ms/step - loss: 3.5909 - val_loss: 3.4847\n",
      "Epoch 4/50\n",
      "308/308 [==============================] - 44s 143ms/step - loss: 3.3929 - val_loss: 3.3478\n",
      "Epoch 5/50\n",
      "308/308 [==============================] - 44s 143ms/step - loss: 3.2431 - val_loss: 3.2487\n",
      "Epoch 6/50\n",
      "308/308 [==============================] - 44s 143ms/step - loss: 3.1159 - val_loss: 3.1688\n",
      "Epoch 7/50\n",
      "308/308 [==============================] - 44s 143ms/step - loss: 3.0073 - val_loss: 3.1056\n",
      "Epoch 8/50\n",
      "308/308 [==============================] - 44s 143ms/step - loss: 2.9116 - val_loss: 3.0446\n",
      "Epoch 9/50\n",
      "308/308 [==============================] - 44s 143ms/step - loss: 2.8283 - val_loss: 3.0121\n",
      "Epoch 10/50\n",
      "308/308 [==============================] - 44s 143ms/step - loss: 2.7545 - val_loss: 2.9752\n",
      "Epoch 11/50\n",
      "308/308 [==============================] - 44s 143ms/step - loss: 2.6890 - val_loss: 2.9404\n",
      "Epoch 12/50\n",
      "308/308 [==============================] - 44s 143ms/step - loss: 2.6297 - val_loss: 2.9187\n",
      "Epoch 13/50\n",
      "308/308 [==============================] - 44s 143ms/step - loss: 2.5714 - val_loss: 2.8936\n",
      "Epoch 14/50\n",
      "308/308 [==============================] - 44s 143ms/step - loss: 2.5189 - val_loss: 2.8744\n",
      "Epoch 15/50\n",
      "308/308 [==============================] - 44s 143ms/step - loss: 2.4744 - val_loss: 2.8655\n",
      "Epoch 16/50\n",
      "308/308 [==============================] - 44s 143ms/step - loss: 2.4311 - val_loss: 2.8497\n",
      "Epoch 17/50\n",
      "308/308 [==============================] - 44s 143ms/step - loss: 2.3911 - val_loss: 2.8416\n",
      "Epoch 18/50\n",
      "308/308 [==============================] - 44s 143ms/step - loss: 2.3515 - val_loss: 2.8322\n",
      "Epoch 19/50\n",
      "308/308 [==============================] - 44s 143ms/step - loss: 2.3128 - val_loss: 2.8300\n",
      "Epoch 20/50\n",
      "308/308 [==============================] - 44s 143ms/step - loss: 2.2800 - val_loss: 2.8176\n",
      "Epoch 21/50\n",
      "308/308 [==============================] - 44s 143ms/step - loss: 2.2477 - val_loss: 2.8246\n",
      "Epoch 22/50\n",
      "308/308 [==============================] - 44s 143ms/step - loss: 2.2171 - val_loss: 2.8109\n",
      "Epoch 23/50\n",
      "308/308 [==============================] - 44s 143ms/step - loss: 2.1895 - val_loss: 2.8108\n",
      "Epoch 24/50\n",
      "308/308 [==============================] - 44s 143ms/step - loss: 2.1649 - val_loss: 2.8100\n",
      "Epoch 25/50\n",
      "308/308 [==============================] - 44s 143ms/step - loss: 2.1377 - val_loss: 2.8073\n",
      "Epoch 26/50\n",
      "308/308 [==============================] - 44s 143ms/step - loss: 2.1121 - val_loss: 2.8075\n",
      "Epoch 27/50\n",
      "308/308 [==============================] - 44s 143ms/step - loss: 2.0898 - val_loss: 2.8055\n",
      "Epoch 28/50\n",
      "308/308 [==============================] - 44s 143ms/step - loss: 2.0677 - val_loss: 2.8026\n",
      "Epoch 29/50\n",
      "308/308 [==============================] - 44s 143ms/step - loss: 2.0446 - val_loss: 2.8026\n",
      "Epoch 30/50\n",
      "308/308 [==============================] - 44s 143ms/step - loss: 2.0250 - val_loss: 2.8053\n",
      "Epoch 31/50\n",
      "308/308 [==============================] - 44s 143ms/step - loss: 2.0056 - val_loss: 2.8091\n",
      "Epoch 00031: early stopping\n"
     ]
    }
   ],
   "source": [
    "model.compile(optimizer='rmsprop', loss='sparse_categorical_crossentropy')\n",
    "es = EarlyStopping(monitor='val_loss', patience=2, verbose=1)\n",
    "history = model.fit(x=[encoder_input_train, decoder_input_train], y=decoder_target_train, \\\n",
    "          validation_data=([encoder_input_test, decoder_input_test], decoder_target_test), \\\n",
    "          batch_size=256, callbacks=[es], epochs=50)"
   ]
  },
  {
   "cell_type": "code",
   "execution_count": 38,
   "metadata": {
    "id": "8hwmMqfOmMQR"
   },
   "outputs": [
    {
     "data": {
      "image/png": "[encoded data removed]",
      "text/plain": [
       "<Figure size 432x288 with 1 Axes>"
      ]
     },
     "metadata": {
      "needs_background": "light"
     },
     "output_type": "display_data"
    }
   ],
   "source": [
    "plt.plot(history.history['loss'], label='train')\n",
    "plt.plot(history.history['val_loss'], label='test')\n",
    "plt.legend()\n",
    "plt.show()"
   ]
  },
  {
   "cell_type": "code",
   "execution_count": 39,
   "metadata": {
    "id": "dLvobB-pou5I"
   },
   "outputs": [],
   "source": [
    "src_index_to_word = src_tokenizer.index_word # 원문 단어 집합에서 정수 -> 단어를 얻음\n",
    "tar_word_to_index = tar_tokenizer.word_index # 요약 단어 집합에서 단어 -> 정수를 얻음\n",
    "tar_index_to_word = tar_tokenizer.index_word # 요약 단어 집합에서 정수 -> 단어를 얻음"
   ]
  },
  {
   "cell_type": "code",
   "execution_count": 40,
   "metadata": {
    "id": "z8uUxYU_o0x_"
   },
   "outputs": [],
   "source": [
    "# 인코더 설계\n",
    "encoder_model = Model(inputs=encoder_inputs, outputs=[encoder_outputs, state_h, state_c])\n",
    "\n",
    "# 이전 시점의 상태들을 저장하는 텐서\n",
    "decoder_state_input_h = Input(shape=(hidden_size,))\n",
    "decoder_state_input_c = Input(shape=(hidden_size,))\n",
    "\n",
    "dec_emb2 = dec_emb_layer(decoder_inputs)\n",
    "\n",
    "# 문장의 다음 단어를 예측하기 위해서 초기 상태(initial_state)를 이전 시점의 상태로 사용. 이는 뒤의 함수 decode_sequence()에 구현\n",
    "# 훈련 과정에서와 달리 LSTM의 리턴하는 은닉 상태와 셀 상태인 state_h와 state_c를 버리지 않음.\n",
    "decoder_outputs2, state_h2, state_c2 = decoder_lstm(dec_emb2, initial_state=[decoder_state_input_h, decoder_state_input_c])"
   ]
  },
  {
   "cell_type": "markdown",
   "metadata": {
    "id": "7BvOs2cWaGl1"
   },
   "source": [
    "### Step 3. 어텐션 메커니즘 사용하기 (추상적 요약)\n",
    "일반적인 seq2seq보다는 어텐션 메커니즘을 사용한 seq2seq를 사용하는 것이 더 나은 성능을 얻을 수 있어요. 실습 내용을 참고하여 어텐션 메커니즘을 사용한 seq2seq를 설계해 보세요."
   ]
  },
  {
   "cell_type": "code",
   "execution_count": 41,
   "metadata": {
    "id": "JjcGpN-Co2ic"
   },
   "outputs": [],
   "source": [
    "# 어텐션 함수\n",
    "decoder_hidden_state_input = Input(shape=(text_max_len, hidden_size))\n",
    "attn_out_inf = attn_layer([decoder_outputs2, decoder_hidden_state_input])\n",
    "decoder_inf_concat = Concatenate(axis=-1, name='concat')([decoder_outputs2, attn_out_inf])\n",
    "\n",
    "# 디코더의 출력층\n",
    "decoder_outputs2 = decoder_softmax_layer(decoder_inf_concat)\n",
    "\n",
    "# 최종 디코더 모델\n",
    "decoder_model = Model(\n",
    "    [decoder_inputs] + [decoder_hidden_state_input,decoder_state_input_h, decoder_state_input_c],\n",
    "    [decoder_outputs2] + [state_h2, state_c2])"
   ]
  },
  {
   "cell_type": "code",
   "execution_count": 42,
   "metadata": {
    "id": "H_osVNCso4cH"
   },
   "outputs": [],
   "source": [
    "def decode_sequence(input_seq):\n",
    "    # 입력으로부터 인코더의 상태를 얻음\n",
    "    e_out, e_h, e_c = encoder_model.predict(input_seq)\n",
    "\n",
    "     # <SOS>에 해당하는 토큰 생성\n",
    "    target_seq = np.zeros((1,1))\n",
    "    target_seq[0, 0] = tar_word_to_index['sostoken']\n",
    "\n",
    "    stop_condition = False\n",
    "    decoded_sentence = ''\n",
    "    while not stop_condition: # stop_condition이 True가 될 때까지 루프 반복\n",
    "\n",
    "        output_tokens, h, c = decoder_model.predict([target_seq] + [e_out, e_h, e_c])\n",
    "        sampled_token_index = np.argmax(output_tokens[0, -1, :])\n",
    "        sampled_token = tar_index_to_word[sampled_token_index]\n",
    "\n",
    "        if (sampled_token!='eostoken'):\n",
    "            decoded_sentence += ' '+sampled_token\n",
    "\n",
    "        #  <eos>에 도달하거나 최대 길이를 넘으면 중단.\n",
    "        if (sampled_token == 'eostoken'  or len(decoded_sentence.split()) >= (summary_max_len-1)):\n",
    "            stop_condition = True\n",
    "\n",
    "        # 길이가 1인 타겟 시퀀스를 업데이트\n",
    "        target_seq = np.zeros((1,1))\n",
    "        target_seq[0, 0] = sampled_token_index\n",
    "\n",
    "        # 상태를 업데이트 합니다.\n",
    "        e_h, e_c = h, c\n",
    "\n",
    "    return decoded_sentence"
   ]
  },
  {
   "cell_type": "code",
   "execution_count": 43,
   "metadata": {
    "id": "bP6XW_k5o6G0"
   },
   "outputs": [],
   "source": [
    "# 원문의 정수 시퀀스를 텍스트 시퀀스로 변환\n",
    "def seq2text(input_seq):\n",
    "    temp=''\n",
    "    for i in input_seq:\n",
    "        if (i!=0):\n",
    "            temp = temp + src_index_to_word[i]+' '\n",
    "    return temp\n",
    "\n",
    "# 요약문의 정수 시퀀스를 텍스트 시퀀스로 변환\n",
    "def seq2summary(input_seq):\n",
    "    temp=''\n",
    "    for i in input_seq:\n",
    "        if (i!=0 and tar_index_to_word[i]!='sostoken'):\n",
    "            temp = temp + tar_index_to_word[i]+' '\n",
    "    return temp"
   ]
  },
  {
   "cell_type": "markdown",
   "metadata": {},
   "source": [
    "### Step 4. 실제 결과와 요약문 비교하기 (추상적 요약)\n",
    "원래의 요약문(headlines 열)과 학습을 통해 얻은 추상적 요약의 결과를 비교해 보세요."
   ]
  },
  {
   "cell_type": "code",
   "execution_count": 44,
   "metadata": {
    "id": "-P716Vmio77f"
   },
   "outputs": [
    {
     "name": "stdout",
     "output_type": "stream",
     "text": [
      "원문 : police arrested two men monday allegedly killing woman sex body uttar pradesh bareilly accused reportedly admitted attacked woman wooden stick resisted rape intercourse fell unconscious died police recovered woman mobile phone possession accused \n",
      "실제 요약 : up men kill woman for rape have sex with corpse \n",
      "예측 요약 :  man arrested for raping killing woman in up\n",
      "\n",
      "\n",
      "원문 : al qaeda attempting recruit new members yemen holding quiz ak assault rifle top prize according reports militants putting posters advertising contest encouraged people pick sheets group members reports added questions sheets reportedly focus al qaeda extreme interpretation islam \n",
      "실제 요약 : al qaeda recruitment quiz in yemen has ak as top prize \n",
      "예측 요약 :  al qaeda to be used as un chief report\n",
      "\n",
      "\n",
      "원문 : snapchat parent company snap chief financial officer andrew quit company replaced amazon former vice president finance tim stone snap clarified confirmed transition relate disagreements company continue serve position may \n",
      "실제 요약 : snapchat parent cfo quits replaced by amazon exec \n",
      "예측 요약 :  tesla appoints former directors of directors of board\n",
      "\n",
      "\n",
      "원문 : infosys announced appointment roy chief financial officer hour minutes airtel said resigned global cfo roy spent years airtel worked years unilever across global operations com graduate delhi university also chartered accountant \n",
      "실제 요약 : infosys names roy as cfo hour after airtel says he quit \n",
      "예측 요약 :  infosys names former cfo of his new cfo\n",
      "\n",
      "\n",
      "원문 : indian cricket team captain virat kohli actress anushka sharma announced got married monday today promised bound love forever tweeted virat anushka couple hold reception new delhi december mumbai december \n",
      "실제 요약 : virat kohli anushka officially announce their marriage \n",
      "예측 요약 :  virat anushka to virat kohli after years reports\n",
      "\n",
      "\n",
      "원문 : pilot airlines suspended months fined lakh allowing wife enter cockpit according airline pilot let wife cockpit two flights last year pilot bought full tickets also ordered pay wife journey \n",
      "실제 요약 : chinese pilot suspended fined lakh for allowing wife in cockpit \n",
      "예측 요약 :  airline fined for making plane pay for plane\n",
      "\n",
      "\n",
      "원문 : indian batsman shikhar dhawan said performance tour south africa helped earn contract bcci dhawan scored two half centuries one century odi series win south africa said dream come true perform like south africa \n",
      "실제 요약 : south africa performance helped me win cr contract dhawan \n",
      "예측 요약 :  dhawan has been an indian spinner in india harbhajan\n",
      "\n",
      "\n",
      "원문 : stating country would resist pressures us sanctions relying natural human resources iranian first vice president saturday said dead end adding critical moment iran economy said size oil gas resources number one world \n",
      "실제 요약 : economy not at dead end from us sanctions iran \n",
      "예측 요약 :  us will not be us as middle east war us prez trump\n",
      "\n",
      "\n",
      "원문 : us based scientists made another study agreeing einstein general relativity theory black holes stars get close enough researchers looked things glow fade would suggest black hole star collisions absence observations led imply objects disappear passing black hole boundary \n",
      "실제 요약 : black holes stars as whole study \n",
      "예측 요약 :  scientists discover new black hole black hole\n",
      "\n",
      "\n",
      "원문 : jharkhand high court extended provisional bail awarded rjd supremo lalu prasad yadav six weeks till august medical grounds stating doctors recommended two month rest lalu recent surgery lawyer sinha said seek extension required lalu serving jail sentence convicted four fodder scams \n",
      "실제 요약 : court extends bail to lalu by weeks on medical grounds \n",
      "예측 요약 :  lalu yadav to be given to lalu yadav post bail\n",
      "\n",
      "\n",
      "원문 : teacher assam district alleged forced convert islam consume beef two senior colleagues teacher reportedly wrote assam cm sarbananda sonowal education minister himanta sarma concerned authorities failed address complaints assam police launch probe incident \n",
      "실제 요약 : assam teacher alleges pressure to convert to islam eat beef \n",
      "예측 요약 :  muslim man beaten to death by mob in karnataka\n",
      "\n",
      "\n",
      "원문 : co captain australia ongoing boxing day test match said wants dismiss indian captain virat kohli according kohli best batsman world also part toss ceremony alongside tim paine trained members australian team \n",
      "실제 요약 : want to dismiss world best kohli aus yr old co captain \n",
      "예측 요약 :  kohli has been the best in the world test virat kohli\n",
      "\n",
      "\n",
      "원문 : song film monsoon wedding sung sukhwinder singh recreated farhan akhtar upcoming film lucknow central newly released track sung divya kumar lyrics penned kumaar directed ranjit tiwari film scheduled release september \n",
      "실제 요약 : singh recreated for lucknow central \n",
      "예측 요약 :  song from sets of song from sets of song\n",
      "\n",
      "\n",
      "원문 : album magic singer bruno mars seven awards including album year best album th grammy awards year single like named song year best performance best song song magic grammy record year \n",
      "실제 요약 : mars album magic wins awards \n",
      "예측 요약 :  what is the best actor which won the best\n",
      "\n",
      "\n",
      "원문 : video posted twitter former england captains andrew flintoff kevin pietersen seen preparing dance performance paris video posted pietersen captioned well paris main event evening live performance pietersen travelled paris taking break commentary duty ipl \n",
      "실제 요약 : ex eng captains pietersen flintoff train for dance \n",
      "예측 요약 :  bieber sings for the first time in the season\n",
      "\n",
      "\n",
      "원문 : uk woman wanted fraud got argument police facebook post appealing communities across uk look year old called police pig denied allegations police requested sort matter nearest police station \n",
      "실제 요약 : wanted uk woman with police on look out post on fb \n",
      "예측 요약 :  woman arrested for posting fb on fb page\n",
      "\n",
      "\n",
      "원문 : india largest telecom operator airtel ceo gopal said financial pain industry caused due jio entry made airtel company must give full credit jio added said three private players eventually remaining ideal sustainable model \n",
      "실제 요약 : financial pain has made airtel company ceo \n",
      "예측 요약 :  airtel has not offer to offer to airtel on july\n",
      "\n",
      "\n",
      "원문 : addressing congress plenary session saturday former party president sonia gandhi said congress political term movement asking congress members work towards making india free corruption sonia claimed congress victory nation victory added son rahul assumed post party president challenging time \n",
      "실제 요약 : cong not political term it is movement sonia gandhi \n",
      "예측 요약 :  cong prez is the only of the party rahul gandhi\n",
      "\n",
      "\n",
      "원문 : actress parineeti chopra said used often younger brothers almost like second mother man get married brothers always love life added parineeti revealed brothers \n",
      "실제 요약 : almost like second mother to my brothers parineeti \n",
      "예측 요약 :  was not making my family priyanka on dating rumour\n",
      "\n",
      "\n",
      "원문 : indian cricketer stuart binny interviewed wife langer occasion anniversary karnataka premier league match friday year old scored ball took two wickets help belagavi beat bengaluru blasters runs binny adjudged man match interviewed covering match \n",
      "실제 요약 : binny gets by wife on anniversary \n",
      "예측 요약 :  dhoni gets the first ever handed diving catch\n",
      "\n",
      "\n",
      "원문 : england born may dismissed australian legend bradman eight times test career bowler bradman bowled balls bradman tests latter scoring runs notably picked wickets runs innings \n",
      "실제 요약 : bowler who dismissed bradman times was born on this day \n",
      "예측 요약 :  bradman once scored all in his innings in years\n",
      "\n",
      "\n",
      "원문 : spacex president said falcon rocket everything correctly reports emerged claiming space exploration startup lost secret satellite zuma information published contrary statement categorically false added spacex launched satellite commissioned us government undisclosed mission last week \n",
      "실제 요약 : we did everything spacex on lost satellite report \n",
      "예측 요약 :  nasa to launch space for secret space for secret space\n",
      "\n",
      "\n",
      "원문 : united nations thursday reported lakh rohingya muslims fled myanmar rakhine state since august situation world fastest developing refugee emergency humanitarian human rights nightmare un secretary general ant nio guterres said myanmar authorities said rohingya villages empty \n",
      "실제 요약 : rohingya from myanmar tops lakh un \n",
      "예측 요약 :  myanmar myanmar to return to un aid over rohingya crisis\n",
      "\n",
      "\n",
      "원문 : denmark lower tax cheapest cars cost government million next year cheap car category expanded include vehicles costing compared current cap denmark finance ministry said thursday \n",
      "실제 요약 : danish govt to cut tax on cheapest cars to from \n",
      "예측 요약 :  japan to get its first oil store in yrs\n",
      "\n",
      "\n",
      "원문 : pakistan media regulator saturday banned private tv channels covering security operation faizabad live also restricting social networking websites including facebook twitter order came authorities began crackdown protesters blocked main routes islamabad two weeks demanding removal country law minister hamid \n",
      "실제 요약 : media out in pakistan amid crackdown on protesters \n",
      "예측 요약 :  pak bans social media ad over bhima koregaon ad\n",
      "\n",
      "\n",
      "원문 : longest total lunar eclipse st century last minutes visible throughout india clear sky locations partial eclipse started pm friday become total eclipse blood moon saturday partial phase start end \n",
      "실제 요약 : watch live the longest total lunar eclipse of the century \n",
      "예측 요약 :  india longest lunar eclipse to be held in july\n",
      "\n",
      "\n",
      "원문 : japanese conglomerate softbank ceo masayoshi son said flipkart share indian domestic commerce market bigger amazon india son also said difficult see someone bigger amazon earlier flipkart raised around billion softbank billion vision fund making india largest investment round \n",
      "실제 요약 : flipkart is bigger than amazon in india softbank ceo \n",
      "예측 요약 :  flipkart will be bigger than flipkart softbank ceo\n",
      "\n",
      "\n",
      "원문 : us postponed inaugural talks india scheduled july citing reasons indian external affairs minister sushma swaraj defence minister nirmala sitharaman scheduled meet us counterparts first meeting kind meeting held new mutually convenient dates india us \n",
      "실제 요약 : us postpones talks with india citing reasons \n",
      "예측 요약 :  india to hold its first ever talks with jan\n",
      "\n",
      "\n",
      "원문 : delhi court thursday framed graft criminal conspiracy charges former mps cash query scam sting operation conducted two journalists mps showed taking cash raising questions parliament prosecution relied upon cds containing conversations among accused others \n",
      "실제 요약 : charges framed against ex mps in cash for query scam \n",
      "예측 요약 :  delhi hc refuses to pay for warrant against\n",
      "\n",
      "\n",
      "원문 : karnataka chief minister hd kumaraswamy saturday said efforts made destabilise government learnt media new government september added comes day former karnataka cm siddaramaiah reportedly said would like become chief minister \n",
      "실제 요약 : efforts are being made to my govt karnataka cm \n",
      "예측 요약 :  taka cm siddaramaiah is the state kumaraswamy\n",
      "\n",
      "\n",
      "원문 : least people including children killed others wounded suspected chemical attack syria province idlib according reports attack caused many people choke foam coming mouths reports added war monitor medical workers blamed attack syrian government \n",
      "실제 요약 : suspected chemical attack in syria kills injures \n",
      "예측 요약 :  killed in attack on chemical attack in syria\n",
      "\n",
      "\n",
      "원문 : according national crime records bureau total civilians average two civilians every week died due police firing rajasthan reported maximum police firings followed maharashtra notably five farmers died madhya pradesh mandsaur district early month police fired protesters demanding better prices \n",
      "실제 요약 : civilians died every week due to police firing in \n",
      "예측 요약 :  rise in maharashtra rise in maharashtra\n",
      "\n",
      "\n",
      "원문 : police officers new zealand recently danced bollywood songs like hui dabangg hai kya se judwaa annual diwali event christchurch trained local bollywood group officers said performance result many rehearsals participated similar event last year \n",
      "실제 요약 : new zealand cops dance to \n",
      "예측 요약 :  jacqueline baahubali mein mein mein\n",
      "\n",
      "\n",
      "원문 : washington year old nick jumped straight water th floor royal caribbean cruise ship docked bahamas instagram video video incident shared friends seen encouraging act royal caribbean banned friends sailing ever \n",
      "실제 요약 : year old man jumps from th floor of cruise for instagram video \n",
      "예측 요약 :  yr old boy dies after falling into race race in mumbai\n",
      "\n",
      "\n",
      "원문 : police wednesday registered cases persons including woman leader hindu mahasabha aligarh firing effigy mahatma gandhi air pistol incident took place house locality city senior superintendent police said video event went viral social media added \n",
      "실제 요약 : booked for firing air shots at mahatma gandhi effigy \n",
      "예측 요약 :  held for raping woman at lord thackeray\n",
      "\n",
      "\n",
      "원문 : tweeting free speech rally boston saturday us president donald trump misspelled word heal heel twice nearly minutes trump deleted incorrect tweets posted one correct spelling however american dictionary publishing firm joined twitter users mocking trump typo tweeting two words \n",
      "실제 요약 : donald trump misspells heal as in tweets on rally \n",
      "예측 요약 :  twitter trump trolled for tweet on twitter trump\n",
      "\n",
      "\n",
      "원문 : actor abhishek bachchan star opposite wife actress aishwarya rai bachchan anurag kashyap next production gulab per reports abhishek aishwarya last seen together mani ratnam earlier collaborated films like guru kuch naa dhoom \n",
      "실제 요약 : abhishek aishwarya to star in anurag kashyap next report \n",
      "예측 요약 :  abhishek abhishek abhishek abhishek abhishek abhishek\n",
      "\n",
      "\n",
      "원문 : nasa cassini spacecraft first object dive saturn rings sent back images successful first ever dive images show giant hurricane saturn atmosphere cassini set perform km gap planet rings spacecraft end year long mission september \n",
      "실제 요약 : nasa sends back saturn images from first \n",
      "예측 요약 :  nasa spacecraft to saturn last planet for saturn\n",
      "\n",
      "\n",
      "원문 : congress president rahul gandhi wednesday said results gujarat assembly elections may surprising adding congress managed connect people gujarat well gandhi called participation women politics said party would try field women chief ministerial candidates states \n",
      "실제 요약 : you may get surprise rahul gandhi on guj poll results \n",
      "예측 요약 :  rahul gandhi is the only of the power rahul\n",
      "\n",
      "\n",
      "원문 : former indian cricketer virender sehwag tweeted going somewhere stopped watch rishabh pant batting first test windies friday sehwag tweeted going somewhere thought pant ki batting hain pant scored runs innings included eight fours four sixes \n",
      "실제 요약 : pant ki batting hain sehwag tweets about pant \n",
      "예측 요약 :  sehwag wishes himself on his birthday\n",
      "\n",
      "\n",
      "원문 : actress alia bhatt shorts shirt jacket one celebrities attended justin bieber concert mumbai wednesday sridevi seen husband boney kapoor younger daughter khushi wore shorts shirt malaika arora wore dress event \n",
      "실제 요약 : in photos celebrities attend justin bieber concert \n",
      "예측 요약 :  alia kapoor wears kareena photos at iifa awards\n",
      "\n",
      "\n",
      "원문 : known directing oscar winning film one flew nest passed away aged short illness departure calm surrounded whole time family closest friends said wife martina also best director oscar film \n",
      "실제 요약 : oscar winning director passes away at \n",
      "예측 요약 :  boxer passes away at the one time after years\n",
      "\n",
      "\n",
      "원문 : reacting lionel messi cristiano ronaldo crashing fifa world cup day user tweeted lost messi ronaldo day silence goats tweets read close yet far inability win world cup status legend messi ronaldo \n",
      "실제 요약 : silence of the goats tweets user as messi ronaldo exit wc \n",
      "예측 요약 :  real time is the real time tweets user on messi charity\n",
      "\n",
      "\n",
      "원문 : third day first test adelaide oval rishabh pant completed six catches australia first innings equal ms dhoni record catches taken innings dhoni announced retirement test cricket held six catches new zealand first innings wellington \n",
      "실제 요약 : rishabh pant holds onto th catch to level ms dhoni record \n",
      "예측 요약 :  yr old becomes youngest to run runs in an odi\n",
      "\n",
      "\n",
      "원문 : hours assuming office monday madhya pradesh cm kamal nath announced investment schemes incentives provide applicable employment provided local people madhya pradesh many industries set people outside state employed people bihar criticising added \n",
      "실제 요약 : will give only to firms with local staff new mp cm \n",
      "예측 요약 :  mp cm slams up govt for not paying for those jobs\n",
      "\n",
      "\n",
      "원문 : russia based study found whale imitated dolphins signature whereas one calls seemed disappear within two months living three adult dolphins calf regularly swam along young dolphin said researchers previous studies found imitating sounds like human speech computer generated noises \n",
      "실제 요약 : whale living with found to learn their language \n",
      "예측 요약 :  study finds how he died heart to survive growth study\n",
      "\n",
      "\n",
      "원문 : one hole golf course camp south korea unexploded mines buried land lined foot security fence players also reported wild animal encounters including deer man bear pig camp base united nations command serves north south korea \n",
      "실제 요약 : golf course in south korea has mines \n",
      "예측 요약 :  ukraine opens its first ever military\n",
      "\n",
      "\n",
      "원문 : soldiers border security force fight snakes rabbits guarding pakistan border official said tackle small medical facilities set within bsf posts always well equipped anti venom injections medical medicines required provide immediate relief \n",
      "실제 요약 : bsf fights snakes at pak border official \n",
      "예측 요약 :  army personnel used to bsf bsf for soldiers\n",
      "\n",
      "\n",
      "원문 : team india head coach ravi shastri actress kaur known roles films like airlift secretly dating two years per reports year old shastri year old endorsing luxury car brand together since shastri reportedly long estranged wife ritu \n",
      "실제 요약 : ravi shastri kaur secretly dating for over years report \n",
      "예측 요약 :  shastri to play coach in jail for raping minor coach\n",
      "\n",
      "\n",
      "원문 : jat leader malik sunday threatened relaunch quota agitation choke delhi community given reservation within two months comes days punjab haryana high court stayed implementation reservation asked government submit report extent quota march next year \n",
      "실제 요약 : jat leaders threaten to delhi if no quota in months \n",
      "예측 요약 :  opp protests in delhi amid protests against opp\n",
      "\n",
      "\n"
     ]
    }
   ],
   "source": [
    "for i in range(50, 100):\n",
    "    print(\"원문 :\", seq2text(encoder_input_test[i]))\n",
    "    print(\"실제 요약 :\", seq2summary(decoder_input_test[i]))\n",
    "    print(\"예측 요약 :\", decode_sequence(encoder_input_test[i].reshape(1, text_max_len)))\n",
    "    print(\"\\n\")"
   ]
  },
  {
   "cell_type": "markdown",
   "metadata": {
    "id": "9rU95sImaRWZ"
   },
   "source": [
    "### Step 5. Summa을 이용해서 추출적 요약해보기\n",
    "추상적 요약은 추출적 요약과는 달리 문장의 표현력을 다양하게 가져갈 수 있지만, 추출적 요약에 비해서 난이도가 높아요. 반대로 말하면 추출적 요약은 추상적 요약에 비해 난이도가 낮고 기존 문장에서 문장을 꺼내오는 것이므로 잘못된 요약이 나올 가능성이 낮아요.\n",
    "\n",
    "Summa의 summarize를 사용하여 추출적 요약을 해보세요."
   ]
  },
  {
   "cell_type": "markdown",
   "metadata": {
    "id": "MQRQ1ZMDo_al"
   },
   "source": [
    "## 추출적 요약"
   ]
  },
  {
   "cell_type": "code",
   "execution_count": 45,
   "metadata": {
    "id": "72oUfLGFpBKt"
   },
   "outputs": [],
   "source": [
    "#텍스트를 입력하면 요약해서 요약텍스트를 리턴해주는 함수\n",
    "def textSummaryAbs(text) :\n",
    "    text_preprocess = preprocess_sentence(text)\n",
    "    text_preprocess = src_tokenizer.texts_to_sequences([text])\n",
    "    text_preprocess = pad_sequences(text_preprocess, maxlen=text_max_len, padding='post')\n",
    "    summa = decode_sequence(text_preprocess)\n",
    "    return summa\n",
    "# textSummaryAbs(data_org['text'][0])\n",
    "# print(data_org['headlines'][0])\n",
    "# print(\"추출 요약 :\", summarize(data_org['text'][0], ratio=0.5) )"
   ]
  },
  {
   "cell_type": "markdown",
   "metadata": {
    "id": "l1QI4zA2pFi5"
   },
   "source": [
    "전처리된 문장으로는 추출요약이 잘 되지 않아서 원본데이터를 다시 불러왔다"
   ]
  },
  {
   "cell_type": "code",
   "execution_count": 46,
   "metadata": {
    "id": "KodgzejGpD0P"
   },
   "outputs": [],
   "source": [
    "data_org = pd.read_csv('news_summary_more.csv', encoding='iso-8859-1')"
   ]
  },
  {
   "cell_type": "code",
   "execution_count": 47,
   "metadata": {
    "id": "iGRiqmuapHl5"
   },
   "outputs": [
    {
     "name": "stdout",
     "output_type": "stream",
     "text": [
      "원문 : Former Finance Minister Yashwant Sinha on Tuesday demanded a probe into the alleged diversion of loans worth Ã¢ÂÂ¹31,000 crore by Dewan Housing Finance (DHFL). All agencies including regulators of the government have failed to track nefarious deals, he said. This comes after a media report on Tuesday accused DHFL's controlling shareholders of diverting funds to shell companies to buy assets.\n",
      "\n",
      "\n",
      "예측 요약 :  yashwant sinha to be held for aircel aircel maxis case\n",
      "추출 요약 : Former Finance Minister Yashwant Sinha on Tuesday demanded a probe into the alleged diversion of loans worth Ã¢ÂÂ¹31,000 crore by Dewan Housing Finance (DHFL).\n",
      "실제 요약 : Yashwant Sinha demands probe into alleged fund diversion by DHFL\n",
      "\n",
      "\n",
      "-------------------------------------------------------\n",
      "\n",
      "\n",
      "원문 : US-based Boeing on Wednesday reported annual sales worth $101.12 billion in 2018, the first time the planemaker's sales crossed the $100-billion mark in its 102-year history. The company said it expects to deliver between 895 and 905 commercial aircraft in 2019. Boeing retained its position as the world's largest planemaker for the seventh straight year, delivering 806 aircraft in 2018. \n",
      "\n",
      "\n",
      "예측 요약 :  boeing profit rises to billion in market quarter\n",
      "추출 요약 : Boeing retained its position as the world's largest planemaker for the seventh straight year, delivering 806 aircraft in 2018.\n",
      "실제 요약 : Boeing sales cross $100bn for 1st time in its 102-yr history\n",
      "\n",
      "\n",
      "-------------------------------------------------------\n",
      "\n",
      "\n",
      "원문 : text\n",
      "\n",
      "\n",
      "예측 요약 :  how did the tradition of the country\n",
      "추출 요약 : \n",
      "실제 요약 : headlines\n",
      "\n",
      "\n",
      "-------------------------------------------------------\n",
      "\n",
      "\n",
      "원문 : OnePlus has emerged as India's best-selling premium smartphone brand of 2018, as per a report by Counterpoint. It captured 36% of the market share in the premium segment, in Q4 2018. Further, its OnePlus 6 emerged as the highest selling premium smartphone of 2018 followed by OnePlus 6T.\n",
      "\n",
      "\n",
      "예측 요약 :  oneplus to launch premium premium phone in\n",
      "추출 요약 : Further, its OnePlus 6 emerged as the highest selling premium smartphone of 2018 followed by OnePlus 6T.\n",
      "실제 요약 : OnePlus named bestselling premium smartphone brand of 2018: Report\n",
      "\n",
      "\n",
      "-------------------------------------------------------\n",
      "\n",
      "\n",
      "원문 : Filmmaker Pooja Bhatt, while talking about the presentation of women in her films, said, \"I can never look at a female body, even if it's naked, in a vulgar manner.\" \"Our audience can say...the women in my films are bold or sensual, but never ever vulgar,\" she added. Pooja further said her censor board is her \"own heart and mind\".\n",
      "\n",
      "\n",
      "예측 요약 :  was told to break up with friend for others pooja\n",
      "추출 요약 : Filmmaker Pooja Bhatt, while talking about the presentation of women in her films, said, \"I can never look at a female body, even if it's naked, in a vulgar manner.\" \"Our audience can say...the women in my films are bold or sensual, but never ever vulgar,\" she added.\n",
      "실제 요약 : Can never look at female body, even if naked, in vulgar way: Pooja\n",
      "\n",
      "\n",
      "-------------------------------------------------------\n",
      "\n",
      "\n",
      "원문 : Actress Mishti, who has featured in 'Manikarnika: The Queen of Jhansi', has said the film's co-director Kangana Ranaut made false promises to the cast. \"Kangana had said, 'I want dates because all characters look jumbled up...I'm trying my best to give everybody a prominent space on screen.' After watching the movie, there is no scope for other characters,\" Mishti added. \n",
      "\n",
      "\n",
      "예측 요약 :  kangana is not scared about being used for kangana\n",
      "추출 요약 : Actress Mishti, who has featured in 'Manikarnika: The Queen of Jhansi', has said the film's co-director Kangana Ranaut made false promises to the cast.\n",
      "실제 요약 : Kangana made fake promises to cast: 'Manikarnika' actress Mishti\n",
      "\n",
      "\n",
      "-------------------------------------------------------\n",
      "\n",
      "\n",
      "원문 : The high-powered committee led by PM Narendra Modi to select the next CBI Director will meet again on February 1, Congress leader Mallikarjun Kharge has said. The panel consisting of Kharge and Chief Justice of India Ranjan Gogoi met on January 24, but the meeting ended \"inconclusively\" after Kharge cited lack of details in the list of 80 IPS officers. \n",
      "\n",
      "\n",
      "예측 요약 :  cong panel to step down as pm modi in riots\n",
      "추출 요약 : The high-powered committee led by PM Narendra Modi to select the next CBI Director will meet again on February 1, Congress leader Mallikarjun Kharge has said.\n",
      "실제 요약 : PM-led panel to meet on Friday to pick new CBI chief: Kharge\n",
      "\n",
      "\n",
      "-------------------------------------------------------\n",
      "\n",
      "\n",
      "원문 : Nevada State Athletic Commission has banned MMA fighters Conor McGregor and Khabib Nurmagomedov for six months and nine months respectively over their roles in the mass brawl that occurred after their fight at UFC 229 last October. McGregor and Khabib have been fined $50,000 (Ã¢ÂÂ¹35 lakh) and $500,000 (Ã¢ÂÂ¹3.5 crore) respectively. The brawl occurred after Nurmagomedov confronted McGregor's teammate.\n",
      "\n",
      "\n",
      "예측 요약 :  mcgregor loses lakh in months after mcgregor fails\n",
      "추출 요약 : Nevada State Athletic Commission has banned MMA fighters Conor McGregor and Khabib Nurmagomedov for six months and nine months respectively over their roles in the mass brawl that occurred after their fight at UFC 229 last October.\n",
      "실제 요약 : McGregor fined Ã¢ÂÂ¹35 lakh, Khabib Ã¢ÂÂ¹3.5 crore for brawl; both banned\n",
      "\n",
      "\n",
      "-------------------------------------------------------\n",
      "\n",
      "\n",
      "원문 : Pakistan captain Sarfaraz Ahmed, who has been banned for four matches over racist remarks, took an apparent dig at his critics by sharing a video of a child reciting 'log hai na' poem on Twitter. \"Pyaar karna hai to khud se kar...dushmani karne ke liye log hai na,\" the poem read. \"This is how the world is,\" Sarfaraz wrote.\n",
      "\n",
      "\n",
      "예측 요약 :  pak captain slammed for calling mocking sonam kapoor\n",
      "추출 요약 : Pakistan captain Sarfaraz Ahmed, who has been banned for four matches over racist remarks, took an apparent dig at his critics by sharing a video of a child reciting 'log hai na' poem on Twitter.\n",
      "실제 요약 : Banned for 4 matches, Sarfaraz shares 'log hai na' poem for critics\n",
      "\n",
      "\n",
      "-------------------------------------------------------\n",
      "\n",
      "\n",
      "원문 : Banned cricketer Sreesanth has told Supreme Court he initially confessed to Delhi Police about his alleged involvement in 2013 IPL spot-fixing scandal to escape continuous police torture. Sreesanth further said the bookie tried dragging him into spot-fixing but he didn't fall for it. Citing Sreesanth not informing BCCI about fixing approach, the apex court said Sreesanth's conduct \"wasn't good\".\n",
      "\n",
      "\n",
      "예측 요약 :  ipl court ipl ipl court ipl sreesanth gets bail\n",
      "추출 요약 : Sreesanth further said the bookie tried dragging him into spot-fixing but he didn't fall for it.\n",
      "실제 요약 : Confessed to spot-fixing to escape police torture: Sreesanth to SC\n",
      "\n",
      "\n",
      "-------------------------------------------------------\n",
      "\n",
      "\n",
      "원문 : The Finance Ministry on Wednesday said the government will present an Interim Budget on February 1. The clarification came amid speculations that a full Budget may be presented during the session. The government recently assigned Piyush Goyal temporary additional charge of the Finance and Corporate Affairs ministries in the absence of Arun Jaitley, who is in the US for treatment.\n",
      "\n",
      "\n",
      "예측 요약 :  budget budget as economic economic affairs minister\n",
      "추출 요약 : The Finance Ministry on Wednesday said the government will present an Interim Budget on February 1.\n",
      "실제 요약 : Govt to present Interim Budget, not full Budget on February 1\n",
      "\n",
      "\n",
      "-------------------------------------------------------\n",
      "\n",
      "\n",
      "원문 : US President Donald Trump on Wednesday called his country's top intelligence chiefs \"naive\" and \"wrong\" on Iran and added that they should perhaps \"go back to school\". Trump claimed Iran is testing rockets, calling the country \"a source of potential danger and conflict\". Top US intelligence officials on Tuesday said that Iran isn't currently taking steps towards building nuclear weapons.\n",
      "\n",
      "\n",
      "예측 요약 :  trump slams us govt for speaking in us\n",
      "추출 요약 : US President Donald Trump on Wednesday called his country's top intelligence chiefs \"naive\" and \"wrong\" on Iran and added that they should perhaps \"go back to school\".\n",
      "실제 요약 : US intelligence naive and wrong, should go back to school: Trump\n",
      "\n",
      "\n",
      "-------------------------------------------------------\n",
      "\n",
      "\n",
      "원문 : A senior priest at the Vatican who handled cases of sexual abuse has quit after being accused of sexual abuse by a former nun. The accused priest claimed he is innocent and said he would consider taking legal action. The Vatican said in a statement that a Church investigation of the case was underway.\n",
      "\n",
      "\n",
      "예측 요약 :  priest jailed for sexually assaulting yr old\n",
      "추출 요약 : A senior priest at the Vatican who handled cases of sexual abuse has quit after being accused of sexual abuse by a former nun.\n",
      "실제 요약 : Vatican priest handling sex abuse cases quits over alleged sex abuse\n",
      "\n",
      "\n",
      "-------------------------------------------------------\n",
      "\n",
      "\n",
      "원문 : A 22-year-old writer turned down a job offer, claiming she was bullied to the point of tears during her two-hour interview by a UK company's CEO. Olivia Bland added the \"brutal\" interview brought back painful memories of her abusive relationship. \"I am so sorry that anyone has been hurt, it is never my intent,\" Web Applications CEO Craig Dean replied. \n",
      "\n",
      "\n",
      "예측 요약 :  woman claims she is claims of my account walmart ceo\n",
      "추출 요약 : A 22-year-old writer turned down a job offer, claiming she was bullied to the point of tears during her two-hour interview by a UK company's CEO.\n",
      "실제 요약 : Woman rejects job after CEO bullies her in interview; he apologises\n",
      "\n",
      "\n",
      "-------------------------------------------------------\n",
      "\n",
      "\n",
      "원문 : Noida Police has arrested Sector 20 station in-charge Manoj Pant and three journalists for allegedly extorting money from a call centre owner for removing his name from an FIR. The four were caught while taking bribe money of Ã¢ÂÂ¹8 lakh, police said. Pant was the lead investigator in the Paytm extortion case involving Founder Vijay Shekhar Sharma's secretary Sonia Dhawan.\n",
      "\n",
      "\n",
      "예측 요약 :  arrested for duping people of lakh people in noida\n",
      "추출 요약 : Noida Police has arrested Sector 20 station in-charge Manoj Pant and three journalists for allegedly extorting money from a call centre owner for removing his name from an FIR.\n",
      "실제 요약 : Police officer probing Paytm extortion case arrested for extortion\n",
      "\n",
      "\n",
      "-------------------------------------------------------\n",
      "\n",
      "\n",
      "원문 : Airtel on Wednesday said that Qatar's sovereign wealth fund Qatar Investment Authority will invest $200 million through a primary equity issuance in Airtel Africa. India's second-largest telecom operator's Africa unit recently raised $1.25 billion from six investors. Airtel Africa, the holding company for Airtel's operations in 14 African countries, is preparing for an initial public offering.\n",
      "\n",
      "\n",
      "예측 요약 :  airtel to invest billion in airtel shares new year\n",
      "추출 요약 : Airtel Africa, the holding company for Airtel's operations in 14 African countries, is preparing for an initial public offering.\n",
      "실제 요약 : Qatar to invest $200 million in Airtel Africa\n",
      "\n",
      "\n",
      "-------------------------------------------------------\n",
      "\n",
      "\n",
      "원문 : Actor Shreyas Talpade said that 'Golmaal' filmmaker Rohit Shetty is still working on the script for the fifth instalment of the 'Golmaal' film franchise. \"He was telling us the other day that he...cracked some story. Once he's done with the...scripting, he'll take a call,Ã¢ÂÂ the actor added. The series features Shreyas along with Ajay Devgn, Arshad Warsi and Tusshar Kapoor.\n",
      "\n",
      "\n",
      "예측 요약 :  working with rohit shetty on his golmaal film\n",
      "추출 요약 : Actor Shreyas Talpade said that 'Golmaal' filmmaker Rohit Shetty is still working on the script for the fifth instalment of the 'Golmaal' film franchise.\n",
      "Once he's done with the...scripting, he'll take a call,Ã¢ÂÂ the actor added.\n",
      "실제 요약 : Rohit Shetty still working on script for Golmaal 5: Shreyas\n",
      "\n",
      "\n",
      "-------------------------------------------------------\n",
      "\n",
      "\n",
      "원문 : A 72-year-old man named Terry Sanderson has sued 'Avengers' actress Gwyneth Paltrow for allegedly crashing into him while skiing, and is seeking $3.1 million (over Ã¢ÂÂ¹22 crore) in damages. The lawsuit states the actress got up and skied away after knocking the man down, leaving him with broken ribs. The incident reportedly took place in 2016 in Utah, US. \n",
      "\n",
      "\n",
      "예측 요약 :  man sues cr for not paying for crore\n",
      "추출 요약 : A 72-year-old man named Terry Sanderson has sued 'Avengers' actress Gwyneth Paltrow for allegedly crashing into him while skiing, and is seeking $3.1 million (over Ã¢ÂÂ¹22 crore) in damages.\n",
      "실제 요약 : Man sues Avengers actress Gwyneth for Ã¢ÂÂ¹22 crore over ski crash\n",
      "\n",
      "\n",
      "-------------------------------------------------------\n",
      "\n",
      "\n",
      "원문 : Yami Gautam was felicitated by Border Security Force (BSF) in Amritsar for her performance in 'Uri: The Surgical Strike'. \"BSF is the first line of defence of our country and it gives me...pride to have met them,\" Yami said. The film, which also stars Vicky Kaushal, is based on the Indian Army's surgical strike operation which took place in 2016.\n",
      "\n",
      "\n",
      "예측 요약 :  army chief sings for army stunt for soldiers\n",
      "추출 요약 : Yami Gautam was felicitated by Border Security Force (BSF) in Amritsar for her performance in 'Uri: The Surgical Strike'.\n",
      "실제 요약 : Yami Gautam felicitated by BSF for performance in 'Uri...'\n",
      "\n",
      "\n",
      "-------------------------------------------------------\n",
      "\n",
      "\n",
      "원문 : Social media giant Facebook has hired privacy critic Nate Cardozo, formerly the top legal counsel for US privacy watchdog EFF, as a privacy policy manager for WhatsApp. Cardozo had called Facebook a \"faceless corporation\" whose business model depends on user's confusion and indifference about privacy, in October 2015. Facebook has also hired attorney Robyn Greene as its privacy policy manager.\n",
      "\n",
      "\n",
      "예측 요약 :  fb denies privacy privacy privacy privacy facebook\n",
      "추출 요약 : Social media giant Facebook has hired privacy critic Nate Cardozo, formerly the top legal counsel for US privacy watchdog EFF, as a privacy policy manager for WhatsApp. Cardozo had called Facebook a \"faceless corporation\" whose business model depends on user's confusion and indifference about privacy, in October 2015.\n",
      "실제 요약 : Facebook hires its privacy critic as privacy policy manager\n",
      "\n",
      "\n",
      "-------------------------------------------------------\n",
      "\n",
      "\n",
      "원문 : Apple CEO Tim Cook said the company plans to lower some iPhones' prices in markets with currencies that weakened against the US dollar in the past year. \"WeÃ¢ÂÂve decided to go back to (iPhone prices) more commensurate with...local prices...a year ago,\" Cook added. The price cuts, in hopes of increasing sales, are reportedly occurring for second time in 12 years.\n",
      "\n",
      "\n",
      "예측 요약 :  apple ceo will make apple production for apple expensive\n",
      "추출 요약 : \"WeÃ¢ÂÂve decided to go back to (iPhone prices) more commensurate with...local prices...a year ago,\" Cook added.\n",
      "실제 요약 : Apple to cut some iPhones' prices outside US over strong dollar\n",
      "\n",
      "\n",
      "-------------------------------------------------------\n",
      "\n",
      "\n",
      "원문 : Scientists in Australia's Flinders University are testing a wetsuit prototype that could protect its wearer after a shark attack. The suit, made of synthetic material similar to the material used in bulletproof vests, could help reduce blood loss after a shark attack. \"The majority of fatalities from shark bites is due to blood loss...shock from blood loss,\" a scientist said.\n",
      "\n",
      "\n",
      "예측 요약 :  mit researchers develop self driving car\n",
      "추출 요약 : \"The majority of fatalities from shark bites is due to blood loss...shock from blood loss,\" a scientist said.\n",
      "실제 요약 : Scientists test wetsuit to protect wearer after shark attack\n",
      "\n",
      "\n",
      "-------------------------------------------------------\n",
      "\n",
      "\n",
      "원문 : BJP National Secretary Rahul Sinha on Wednesday asked the party workers in West Bengal to come armed with sticks to PM Narendra Modi's rally in the state on February 2. His statement came a day after clashes broke out following BJP chief Amit Shah's WB rally. Sinha added the TMC is indulged in violence as they're afraid of BJP's strength.\n",
      "\n",
      "\n",
      "예측 요약 :  bjp rally in west bengal rally amit shah\n",
      "추출 요약 : BJP National Secretary Rahul Sinha on Wednesday asked the party workers in West Bengal to come armed with sticks to PM Narendra Modi's rally in the state on February 2.\n",
      "실제 요약 : Come armed with sticks for PM Modi's rally in WB: BJP leader\n",
      "\n",
      "\n",
      "-------------------------------------------------------\n",
      "\n",
      "\n",
      "원문 : BJP President Amit Shah on Wednesday took a dig at the Opposition parties saying that the 'mahagathbandhan' for the Opposition is 4B - \"Bua-Bhatija-Bhai-Behen\". He added that 4B for the BJP meant \"Badhta Bharat, Banta Bharat\". He said Opposition's government cannot take the country ahead and \"only Modiji can provide a 'mazboot' (strong) government\".\n",
      "\n",
      "\n",
      "예측 요약 :  amit shah can apologise for shah amit shah\n",
      "추출 요약 : BJP President Amit Shah on Wednesday took a dig at the Opposition parties saying that the 'mahagathbandhan' for the Opposition is 4B - \"Bua-Bhatija-Bhai-Behen\".\n",
      "실제 요약 : '4B' for Opposition is 'Bua-Bhatija-Bhai-Behen': Amit Shah\n",
      "\n",
      "\n",
      "-------------------------------------------------------\n",
      "\n",
      "\n",
      "원문 : German automaker Volkswagen Group has retained the car industry's top spot in global sales, beating its Japanese rival Toyota. Volkswagen's sales, including its MAN and Scania heavy trucks and buses, rose 0.9% to 10.83 million in 2018, the company had said. Toyota came second with around 10.6 million deliveries, including its affiliated brands Daihatsu and Hino, in 2018.\n",
      "\n",
      "\n",
      "예측 요약 :  volkswagen to volkswagen electric electric electric\n",
      "추출 요약 : Volkswagen's sales, including its MAN and Scania heavy trucks and buses, rose 0.9% to 10.83 million in 2018, the company had said.\n",
      "실제 요약 : Volkswagen retains top spot in global sales, beats Toyota\n",
      "\n",
      "\n",
      "-------------------------------------------------------\n",
      "\n",
      "\n",
      "원문 : Ousted Nissan Chairman Carlos Ghosn has said his arrest over alleged financial misconduct was led by \"plot and treason\" by the Japanese carmaker's executives who opposed its deeper integration with Renault and Mitsubishi. Ghosn added he had discussed the integration plans with Nissan's CEO in September, a month before his arrest. He further said he wouldn't flee if granted bail.\n",
      "\n",
      "\n",
      "예측 요약 :  nissan ghosn to nissan ghosn in ghosn ghosn ghosn ghosn\n",
      "추출 요약 : Ousted Nissan Chairman Carlos Ghosn has said his arrest over alleged financial misconduct was led by \"plot and treason\" by the Japanese carmaker's executives who opposed its deeper integration with Renault and Mitsubishi.\n",
      "실제 요약 : Plot, treason by Nissan executives led to my arrest: Ghosn\n",
      "\n",
      "\n",
      "-------------------------------------------------------\n",
      "\n",
      "\n",
      "원문 : The government has cut down customs duty on import of parts and components for electric vehicles to 10-15%, down from the previous 15-30%. The Central Board of Indirect Taxes and Customs said disassembled parts will attract 10% duty, whereas 15% will be levied on pre-assembled packs. However, fully built electric vehicles will continue to attract 25% import duty.\n",
      "\n",
      "\n",
      "예측 요약 :  govt proposes to use electric duty to reduce duty on duty\n",
      "추출 요약 : The government has cut down customs duty on import of parts and components for electric vehicles to 10-15%, down from the previous 15-30%.\n",
      "실제 요약 : Govt cuts customs duty on electric vehicle parts to 10-15%\n",
      "\n",
      "\n",
      "-------------------------------------------------------\n",
      "\n",
      "\n",
      "원문 : Government officials on Wednesday said that a swine flu outbreak has killed 76 people this year in Rajasthan. Colder weather has worsened the seasonal outbreak of the H1N1 virus in the country, officials added. Rajasthan recorded more than a third of all swine flu deaths in India with Jodhpur being the worst affected area in the state, officials said.\n",
      "\n",
      "\n",
      "예측 요약 :  swine flu cases toll rises to in rajasthan\n",
      "추출 요약 : Government officials on Wednesday said that a swine flu outbreak has killed 76 people this year in Rajasthan.\n",
      "실제 요약 : Swine flu outbreak kills 76 in Rajasthan\n",
      "\n",
      "\n",
      "-------------------------------------------------------\n",
      "\n",
      "\n",
      "원문 : North Korea is \"unlikely to completely give up its nuclear weapons and production capabilities\", Director of US' National Intelligence, Daniel Coats, said. \"North Korean leaders view nuclear arms as critical to regime survival,\" he added. His statements come despite North Korea's agreement with the US at the Singapore summit last year to denuclearise the Korean Peninsula. \n",
      "\n",
      "\n",
      "예측 요약 :  korea threatens to end nuclear weapons with korea\n",
      "추출 요약 : \"North Korean leaders view nuclear arms as critical to regime survival,\" he added.\n",
      "실제 요약 : N Korea unlikely to give up nuclear weapons: US intelligence chief\n",
      "\n",
      "\n",
      "-------------------------------------------------------\n",
      "\n",
      "\n",
      "원문 : Jet Airways on Wednesday denied it was directed by GE Capital Aviation Services to ground its aircraft due to non-payment of dues. The airline said it's in the process of delivering three aircraft to lessors due to the expiry of lease terms. Further, three aircraft have been temporarily grounded to carry out an engine normalisation exercise, it added.\n",
      "\n",
      "\n",
      "예측 요약 :  jet airways delays pilots on planes reports\n",
      "추출 요약 : Further, three aircraft have been temporarily grounded to carry out an engine normalisation exercise, it added.\n",
      "실제 요약 : Jet Airways denies being told to ground aircraft\n",
      "\n",
      "\n",
      "-------------------------------------------------------\n",
      "\n",
      "\n",
      "원문 : Retired Justice Srikrishna's enquiry panel has found that ex-CEO Chanda Kochhar violated ICICI Bank's code of conduct. The bank said it'll treat Kochhar's exit as termination and will take back all bonuses paid to her from April 2009 until March 2018. The CBI recently filed a case against Kochhar, her husband, and Videocon MD in the ICICI-Videocon loan case.\n",
      "\n",
      "\n",
      "예측 요약 :  icici board chief chanda kochhar quits as sebi chief\n",
      "추출 요약 : Retired Justice Srikrishna's enquiry panel has found that ex-CEO Chanda Kochhar violated ICICI Bank's code of conduct.\n",
      "실제 요약 : ICICI fires Chanda Kochhar, to take back bonuses paid in last 9 yrs\n",
      "\n",
      "\n",
      "-------------------------------------------------------\n",
      "\n",
      "\n",
      "원문 : Ex-India cricketer Jacob Martin has been shifted to general ward from the ICU after being on a ventilator for nearly a month following a road accident, wherein he severely injured his lungs. Martin's wife Khyati mentioned there are chances that Jacob will be in hospital for two more months. BCCI, CSK and various cricketers provided financial assistance for Martin's treatment.\n",
      "\n",
      "\n",
      "예측 요약 :  former cricketer who stole his own home cricketer\n",
      "추출 요약 : Ex-India cricketer Jacob Martin has been shifted to general ward from the ICU after being on a ventilator for nearly a month following a road accident, wherein he severely injured his lungs.\n",
      "실제 요약 : Ex-cricketer Martin out of ICU after being on ventilator for a month\n",
      "\n",
      "\n",
      "-------------------------------------------------------\n",
      "\n",
      "\n",
      "원문 : Sri Lanka all-rounder Thisara Perera has written to Sri Lanka Cricket CEO Ashley de Silva, asking the board to intervene after ODI captain Lasith Malinga's wife Tanya targeted him on Facebook. Tanya accused Perera of meeting country's Sports Minister to secure his place in the team. \"We've become laughing stock of whole country...because of one person's personal vendetta,\" Perera wrote.\n",
      "\n",
      "\n",
      "예측 요약 :  sl captain paine to be spot for not playing in odi cricket\n",
      "추출 요약 : Tanya accused Perera of meeting country's Sports Minister to secure his place in the team.\n",
      "실제 요약 : Malinga's wife targets Perera on Facebook, he seeks board's help\n",
      "\n",
      "\n",
      "-------------------------------------------------------\n",
      "\n",
      "\n",
      "원문 : Goa CM and ex-Defence Minister Manohar Parrikar has written a letter to Congress President Rahul Gandhi over his claim that Parrikar told him he has nothing to do with new Rafale deal. Parrikar wrote, \"Kindly do not use your visit to an ailing person to feed political opportunism.\" In their five-minute meeting, they didn't discuss anything about Rafale, he added.\n",
      "\n",
      "\n",
      "예측 요약 :  parrikar has rafale deal parrikar on rafale deal\n",
      "추출 요약 : Goa CM and ex-Defence Minister Manohar Parrikar has written a letter to Congress President Rahul Gandhi over his claim that Parrikar told him he has nothing to do with new Rafale deal.\n",
      "실제 요약 : Don't use visit to ailing man for political gains: Goa CM to Rahul\n",
      "\n",
      "\n",
      "-------------------------------------------------------\n",
      "\n",
      "\n",
      "원문 : Prime Minister Narendra Modi stopped his speech at the inauguration of the new terminal building at Surat airport after observing that a cameraman had fainted. PM Modi then asked his officers to urgently arrange for an ambulance for the cameraman. \"It's good that PM was paying attention to his surroundings during his speech,\" the cameraman later said from a hospital. \n",
      "\n",
      "\n",
      "예측 요약 :  pm modi visits airport for throwing pictures of his speech\n",
      "추출 요약 : PM Modi then asked his officers to urgently arrange for an ambulance for the cameraman.\n",
      "실제 요약 : PM Modi stops speech after cameraman faints, asks officers to help\n",
      "\n",
      "\n",
      "-------------------------------------------------------\n",
      "\n",
      "\n",
      "원문 : A couple got divorced minutes after their wedding ceremony got over in Gujarat's Gondal as a disagreement broke out and relatives from both sides started throwing dishes at each other during lunch. The advocates representing both sides arrived at the marriage hall and got the couple divorced within minutes. The couple even reportedly returned the gifts exchanged during the ceremony.\n",
      "\n",
      "\n",
      "예측 요약 :  couple marries wedding after marriage marries ceremony\n",
      "추출 요약 : A couple got divorced minutes after their wedding ceremony got over in Gujarat's Gondal as a disagreement broke out and relatives from both sides started throwing dishes at each other during lunch.\n",
      "실제 요약 : Couple divorces minutes after marriage as families fight over lunch\n",
      "\n",
      "\n",
      "-------------------------------------------------------\n",
      "\n",
      "\n",
      "원문 : Gujarat Education Minister Bhupendrasinh Chudasma has written a congratulatory message to a yoga ashram run by rape-convict Asaram's organisation for observing February 14 as \"Matru-Pitru Pujan Divas\" (Mother-Father worship day). After the Congress termed the letter as \"unfortunate\", saying it \"shows the nexus between BJP and godman\", Chudasma clarified, \"All I have done is sent best wishes.\" \n",
      "\n",
      "\n",
      "예측 요약 :  up minister praises asaram for raping year old girl\n",
      "추출 요약 : Gujarat Education Minister Bhupendrasinh Chudasma has written a congratulatory message to a yoga ashram run by rape-convict Asaram's organisation for observing February 14 as \"Matru-Pitru Pujan Divas\" (Mother-Father worship day).\n",
      "실제 요약 : Minister praises rape-convict Asaram over Matru-Pitru Divas\n",
      "\n",
      "\n",
      "-------------------------------------------------------\n",
      "\n",
      "\n",
      "원문 : Venezuelan President NicolÃÂ¡s Maduro has claimed that his American counterpart Donald Trump ordered the Colombian government and the Colombian mafia to kill him. \"If something happens to me, Trump and Colombian President IvÃÂ¡n MÃÂ¡rquez will bear responsibility,\" he added. The US has blamed Maduro for the economic crisis in Venezuela and recognised opposition leader Juan GuaidÃÂ³ as interim President.\n",
      "\n",
      "\n",
      "예측 요약 :  trump calls me that he would never be offered him\n",
      "추출 요약 : Venezuelan President NicolÃÂ¡s Maduro has claimed that his American counterpart Donald Trump ordered the Colombian government and the Colombian mafia to kill him.\n",
      "실제 요약 : Trump ordered to kill me: Venezuela President Maduro\n",
      "\n",
      "\n",
      "-------------------------------------------------------\n",
      "\n",
      "\n",
      "원문 : Eight Asian billionaires aged 90 or above on the Bloomberg Billionaires Index of world's 500 richest people have a combined net worth of $125 billion. The richest among them is Hong Kong's Li Ka Shing with a net worth of $30.5 billion. India's 90-year-old Pallonji Mistry, who controls 18.3% of Tata Sons through Shapoorji Pallonji Group, is worth $20.1 billion.\n",
      "\n",
      "\n",
      "예측 요약 :  who is the richest man of the year old\n",
      "추출 요약 : The richest among them is Hong Kong's Li Ka Shing with a net worth of $30.5 billion.\n",
      "실제 요약 : 8 Asian billionaires aged over 90, including Mistry, control $125bn\n",
      "\n",
      "\n",
      "-------------------------------------------------------\n",
      "\n",
      "\n",
      "원문 : Tamil Nadu food safety officials on Wednesday raided and seized 1,000 kgs of banned plastic items from Hotel Saravana Bhavan in Chennai's Vadapalani. Officials began a surprise check in the branch at 8 am. The state government had banned single-use plastics from January 1 and said the banned items should be handed over at the offices of the city corporation.\n",
      "\n",
      "\n",
      "예측 요약 :  liquor banned in mumbai seized in hyderabad\n",
      "추출 요약 : Tamil Nadu food safety officials on Wednesday raided and seized 1,000 kgs of banned plastic items from Hotel Saravana Bhavan in Chennai's Vadapalani.\n",
      "실제 요약 : 1,000 kg banned plastic seized from Saravana Bhavan in Chennai\n",
      "\n",
      "\n",
      "-------------------------------------------------------\n",
      "\n",
      "\n",
      "원문 : Actress Shamita Shetty was verbally abused and her driver was slapped in an incident of road rage in Mumbai on Tuesday, as per reports. The incident reportedly took place after a motorist who was accompanied by two friends, rammed his vehicle into Shamita's car. The men allegedly manhandled and threatened Shamita's driver when he stepped out to inspect the damage. \n",
      "\n",
      "\n",
      "예측 요약 :  actor arrested for molestation on assaulting drunk man\n",
      "추출 요약 : Actress Shamita Shetty was verbally abused and her driver was slapped in an incident of road rage in Mumbai on Tuesday, as per reports.\n",
      "실제 요약 : Shamita Shetty abused, driver slapped after accident: Report\n",
      "\n",
      "\n",
      "-------------------------------------------------------\n",
      "\n",
      "\n",
      "원문 : Actress Vaani Kapoor said that trolling has become a norm on social media, adding, \"There's no one who hasn't got trolled on social media.\" \"Everybody is out there to pull the other person down but it'll only bother [you] if you let it bother you,\" Vaani added. She further said, social media offers a platform \"where people enjoy belittling everybody\". \n",
      "\n",
      "\n",
      "예측 요약 :  people are working with social media says sonam\n",
      "추출 요약 : Actress Vaani Kapoor said that trolling has become a norm on social media, adding, \"There's no one who hasn't got trolled on social media.\" \"Everybody is out there to pull the other person down but it'll only bother [you] if you let it bother you,\" Vaani added.\n",
      "실제 요약 : Trolling has become the norm on social media: Vaani\n",
      "\n",
      "\n",
      "-------------------------------------------------------\n",
      "\n",
      "\n",
      "원문 : Actress Sushmita Sen took to Instagram to share a joke on the subject of marriage. \"Whoever invented marriage was creepy as hell. Like I love you so much IÃ¢ÂÂm gonna get the government involved so you canÃ¢ÂÂt leave,\" Sushmita's post read. \"This is an insult to [the] beauty of marriage,\" an Instagram user commented on her post.\n",
      "\n",
      "\n",
      "예측 요약 :  sushmita slams sushmita over her marriage remark\n",
      "추출 요약 : Actress Sushmita Sen took to Instagram to share a joke on the subject of marriage.\n",
      "\"This is an insult to [the] beauty of marriage,\" an Instagram user commented on her post.\n",
      "실제 요약 : Whoever invented marriage was creepy as hell: Sushmita posts joke\n",
      "\n",
      "\n",
      "-------------------------------------------------------\n",
      "\n",
      "\n",
      "원문 : Television actor Karanvir Bohra, who flew to Russia on Tuesday to attend a film festival, has been detained in Moscow due to passport damage. \"They [are] contemplating to deport me back to India,\" the actor wrote on Twitter. The Indian embassy in Russia's capital responded to his tweet and said that they were looking into the issue. \n",
      "\n",
      "\n",
      "예측 요약 :  actor criticised for anti actress in saudi\n",
      "추출 요약 : Television actor Karanvir Bohra, who flew to Russia on Tuesday to attend a film festival, has been detained in Moscow due to passport damage.\n",
      "실제 요약 : Actor Karanvir Bohra detained in Russia over passport damage\n",
      "\n",
      "\n",
      "-------------------------------------------------------\n",
      "\n",
      "\n",
      "원문 : While speaking about winning awards for his films, Shah Rukh Khan said, \"If I don't get an award, that award is at a loss.\" \"Sometimes, the prestige of an award increases when I receive it,\" the actor jokingly added. Shah Rukh further said that he was \"extremely ambitious\" but in a \"fair manner\". \n",
      "\n",
      "\n",
      "예측 요약 :  awards my best award for me srk on his best award\n",
      "추출 요약 : While speaking about winning awards for his films, Shah Rukh Khan said, \"If I don't get an award, that award is at a loss.\" \"Sometimes, the prestige of an award increases when I receive it,\" the actor jokingly added.\n",
      "실제 요약 : If I don't get an award, that award is at loss: SRK\n",
      "\n",
      "\n",
      "-------------------------------------------------------\n",
      "\n",
      "\n",
      "원문 : Actress Patralekhaa will make her debut in the Kannada film industry with the action-comedy film 'Where is my Kannadaka?' \"I can definitely say that itÃ¢ÂÂs a kind of role that I havenÃ¢ÂÂt portrayed on screen so far and that makes it special for me,\" the actress said in a statement. Shooting for the film will reportedly begin in April.\n",
      "\n",
      "\n",
      "예측 요약 :  will not be able to make film on film with film maker\n",
      "추출 요약 : Actress Patralekhaa will make her debut in the Kannada film industry with the action-comedy film 'Where is my Kannadaka?' \"I can definitely say that itÃ¢ÂÂs a kind of role that I havenÃ¢ÂÂt portrayed on screen so far and that makes it special for me,\" the actress said in a statement.\n",
      "실제 요약 : Actress Patralekhaa to make her Kannada film debut \n",
      "\n",
      "\n",
      "-------------------------------------------------------\n",
      "\n",
      "\n",
      "원문 : Gmail on Tuesday faced a global outage, which also affected India, wherein certain users complained they faced a '404 error' message while trying to sign-in to their accounts. The error message read: \"The requested URL was not found on this server. That's all we know.\" Google responded saying \"problem with Gmail should be resolved (now). We apologise for the inconvenience\".\n",
      "\n",
      "\n",
      "예측 요약 :  users show users to show user on global outage\n",
      "추출 요약 : Gmail on Tuesday faced a global outage, which also affected India, wherein certain users complained they faced a '404 error' message while trying to sign-in to their accounts.\n",
      "The error message read: \"The requested URL was not found on this server.\n",
      "실제 요약 : Gmail faces temporary global outage, users face '404 error'\n",
      "\n",
      "\n",
      "-------------------------------------------------------\n",
      "\n",
      "\n",
      "원문 : Shiv Sena chief Uddhav Thackeray has asked the BJP to decide about the alliance with the Sena within 15 days and said the BJP should make a concrete proposal on the alliance. Thackeray added that only if the BJP agrees to Sena's terms and conditions, the party will agree for an alliance. Sena is free to fight independently, he said. \n",
      "\n",
      "\n",
      "예측 요약 :  bjp will not be uddhav if he is not uddhav uddhav\n",
      "추출 요약 : Shiv Sena chief Uddhav Thackeray has asked the BJP to decide about the alliance with the Sena within 15 days and said the BJP should make a concrete proposal on the alliance.\n",
      "실제 요약 : Decide about an alliance within 15 days: Uddhav to BJP\n",
      "\n",
      "\n",
      "-------------------------------------------------------\n",
      "\n",
      "\n",
      "원문 : BJP President Amit Shah on Wednesday took a dig at the Opposition's proposed grand alliance saying if the \"mahagathbandhan comes to power, each opposition leader will be a Prime Minister every day of the week\". He added, \"[The] country will go on...holiday on Sunday\". He said the Opposition is thinking about leading the country but does not have a leader.\n",
      "\n",
      "\n",
      "예측 요약 :  bjp will not be in shah rule amit shah\n",
      "추출 요약 : He said the Opposition is thinking about leading the country but does not have a leader.\n",
      "실제 요약 : Grand alliance, if wins, will see a new PM every day: Shah\n",
      "\n",
      "\n",
      "-------------------------------------------------------\n",
      "\n",
      "\n",
      "원문 : Prime Minister Narendra Modi on Wednesday said his government's demonetisation decision made houses affordable for the aspiring youth. He added decisions like demonetisation and RERA have put a check on black money that used to be \"parked in the real estate sector\". He said 'UDAN' (Ude Desh ka Aam Nagrik) scheme has boosted the development of the country's aviation sector.\n",
      "\n",
      "\n",
      "예측 요약 :  demonetisation is like demonetisation pm modi\n",
      "추출 요약 : He added decisions like demonetisation and RERA have put a check on black money that used to be \"parked in the real estate sector\".\n",
      "실제 요약 : Demonetisation made homes affordable for youth: PM Modi\n",
      "\n",
      "\n",
      "-------------------------------------------------------\n",
      "\n",
      "\n"
     ]
    }
   ],
   "source": [
    "for i in range(50, 100):\n",
    "    print(\"원문 :\", data_org['text'][i] )\n",
    "    print('\\n')\n",
    "    print(\"예측 요약 :\", textSummaryAbs(data_org['text'][i]) )\n",
    "    print(\"추출 요약 :\", summarize(data_org['text'][i], ratio=0.5) )\n",
    "    print(\"실제 요약 :\", data_org['headlines'][i] )\n",
    "    print('\\n')\n",
    "    print(\"-------------------------------------------------------\")\n",
    "    print('\\n')"
   ]
  },
  {
   "cell_type": "markdown",
   "metadata": {
    "id": "V2YcjaSrpNpJ"
   },
   "source": [
    "### 추출요약과 예측 요약 비교\n",
    "추출 요약의 경우 원문의 일부 문장을 발췌해서 요약하는 것으로 보인다.\n",
    "그에 따라 추출요약은 문법상 맞는 문장으로 이루어진 것으로 보인다.\n",
    "하지만 핵심단어가 빠진 부분이 많이 보인다. 원문에 따라 요약이 되지 않는 경우도 많이 있다.(짧거나 전처리를 거친 텍스트 이거나....)\n",
    "\n",
    "예측 요약의 경우 전처리를 거친 이후 요약을 했기에 단어의 나열로 표현되는 것 같은데,\n",
    "생각보다는 문법상 많이 맞는 것 같다. 핵심단어를 좀 더 잘 포함한다."
   ]
  }
 ],
 "metadata": {
  "accelerator": "TPU",
  "colab": {
   "provenance": []
  },
  "kernelspec": {
   "display_name": "Python 3 (ipykernel)",
   "language": "python",
   "name": "python3"
  },
  "language_info": {
   "codemirror_mode": {
    "name": "ipython",
    "version": 3
   },
   "file_extension": ".py",
   "mimetype": "text/x-python",
   "name": "python",
   "nbconvert_exporter": "python",
   "pygments_lexer": "ipython3",
   "version": "3.9.7"
  }
 },
 "nbformat": 4,
 "nbformat_minor": 1
}
