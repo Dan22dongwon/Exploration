{
  "nbformat": 4,
  "nbformat_minor": 0,
  "metadata": {
    "colab": {
      "provenance": []
    },
    "kernelspec": {
      "name": "python3",
      "display_name": "Python 3"
    },
    "language_info": {
      "name": "python"
    }
  },
  "cells": [
    {
      "cell_type": "code",
      "execution_count": 2,
      "metadata": {
        "colab": {
          "base_uri": "https://localhost:8080/"
        },
        "id": "t-c9RUNLoXmS",
        "outputId": "e2b029c7-0bf2-4c97-bc6d-610fa874e39a"
      },
      "outputs": [
        {
          "output_type": "stream",
          "name": "stdout",
          "text": [
            "동원\n"
          ]
        }
      ],
      "source": [
        "print(\"동원\")"
      ]
    },
    {
      "cell_type": "code",
      "source": [],
      "metadata": {
        "id": "j359AlbWobrs"
      },
      "execution_count": null,
      "outputs": []
    }
  ]
}